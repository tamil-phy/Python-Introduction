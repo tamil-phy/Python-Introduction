{
 "cells": [
  {
   "cell_type": "markdown",
   "id": "ccc6578a-557e-44f6-ac7d-18bf98ae8253",
   "metadata": {},
   "source": [
    "# While loop - Repeatedly executes a block of code as long as the certain condition True.\n",
    "\n",
    "Syntax ---> while condition:"
   ]
  },
  {
   "cell_type": "code",
   "execution_count": 5,
   "id": "0ad32fc3-481c-4ca7-be6e-a8365e00a997",
   "metadata": {
    "tags": []
   },
   "outputs": [
    {
     "name": "stdout",
     "output_type": "stream",
     "text": [
      "1\n",
      "2\n",
      "3\n",
      "4\n",
      "5\n"
     ]
    }
   ],
   "source": [
    "i = 1\n",
    "while i <= 5: # Until this while is True \n",
    "    print(i)\n",
    "    i+=1"
   ]
  },
  {
   "cell_type": "code",
   "execution_count": 6,
   "id": "cc3e0d3c-ef2e-489b-9f4a-deecdaf478be",
   "metadata": {
    "tags": []
   },
   "outputs": [
    {
     "name": "stdout",
     "output_type": "stream",
     "text": [
      "1\n",
      "2\n",
      "3\n",
      "4\n",
      "5\n",
      "6\n"
     ]
    }
   ],
   "source": [
    "i = 0\n",
    "while i <= 5:\n",
    "    i+=1\n",
    "    print(i)"
   ]
  },
  {
   "cell_type": "code",
   "execution_count": 7,
   "id": "53a540ba-9e1b-4060-8890-9d69a182ed41",
   "metadata": {
    "tags": []
   },
   "outputs": [
    {
     "name": "stdout",
     "output_type": "stream",
     "text": [
      "The number of vowels in the string is: 3\n"
     ]
    }
   ],
   "source": [
    "my_string  = 'Hello World!'\n",
    "vowels = 'aeiouAEIOU'\n",
    "count = 0\n",
    "i = 0\n",
    "while i < len(my_string):\n",
    "    if my_string[i] in vowels:\n",
    "        count +=1\n",
    "    i +=1\n",
    "print(\"The number of vowels in the string is:\", count)    "
   ]
  },
  {
   "cell_type": "code",
   "execution_count": 16,
   "id": "ba532ce6-c840-4a48-a9b4-af4fb07c44c6",
   "metadata": {
    "tags": []
   },
   "outputs": [],
   "source": [
    "my_string  = 'Hello World!'\n",
    "reversed_string = \"\"\n",
    "i = len(my_string)-1\n",
    "\n",
    "while i >=0:\n",
    "    reversed_string += my_string[i]\n",
    "    i -= 1"
   ]
  },
  {
   "cell_type": "code",
   "execution_count": 17,
   "id": "9a3fa883-88af-46a8-997c-3f1dcfdf7782",
   "metadata": {
    "tags": []
   },
   "outputs": [
    {
     "name": "stdout",
     "output_type": "stream",
     "text": [
      "!dlroW olleH\n"
     ]
    }
   ],
   "source": [
    "print(reversed_string)"
   ]
  },
  {
   "cell_type": "code",
   "execution_count": 10,
   "id": "5fe665d3-4e93-4f3c-887c-52308d6a05c7",
   "metadata": {
    "tags": []
   },
   "outputs": [
    {
     "data": {
      "text/plain": [
       "11"
      ]
     },
     "execution_count": 10,
     "metadata": {},
     "output_type": "execute_result"
    }
   ],
   "source": [
    "len(my_string) - 1"
   ]
  },
  {
   "cell_type": "code",
   "execution_count": 13,
   "id": "e65c9723-b1bb-46d1-bba7-8e4172d4147c",
   "metadata": {
    "tags": []
   },
   "outputs": [
    {
     "data": {
      "text/plain": [
       "'!'"
      ]
     },
     "execution_count": 13,
     "metadata": {},
     "output_type": "execute_result"
    }
   ],
   "source": [
    "my_string[11]"
   ]
  },
  {
   "cell_type": "code",
   "execution_count": 30,
   "id": "fe061585-3728-4446-a330-fa5c03503849",
   "metadata": {
    "tags": []
   },
   "outputs": [
    {
     "name": "stdin",
     "output_type": "stream",
     "text": [
      "Enter a string:  racecar\n"
     ]
    }
   ],
   "source": [
    "my_string = input(\"Enter a string: \")\n",
    "i = 0 \n",
    "j = len(my_string) - 1\n",
    "is_palindrome = True"
   ]
  },
  {
   "cell_type": "code",
   "execution_count": 31,
   "id": "19214314-e9ed-4131-a0a1-fcc51d88c454",
   "metadata": {
    "tags": []
   },
   "outputs": [
    {
     "name": "stdout",
     "output_type": "stream",
     "text": [
      "It's a palindrome\n"
     ]
    }
   ],
   "source": [
    "while i < j:\n",
    "    if my_string[i] != my_string[j]:\n",
    "        is_palindrome = False\n",
    "        break\n",
    "    i += 1\n",
    "    j -= 1\n",
    "    \n",
    "if is_palindrome:\n",
    "    print(\"It's a palindrome\")\n",
    "else:\n",
    "    print(\"Not a palindrome\")\n",
    "    "
   ]
  },
  {
   "cell_type": "code",
   "execution_count": 23,
   "id": "458e9af2-e578-4353-8df3-c84eff2a9514",
   "metadata": {
    "tags": []
   },
   "outputs": [],
   "source": [
    "a = 1"
   ]
  },
  {
   "cell_type": "code",
   "execution_count": 24,
   "id": "fddd1db0-06f8-40f2-a800-d28a8cc5c643",
   "metadata": {
    "tags": []
   },
   "outputs": [],
   "source": [
    "a = 2"
   ]
  },
  {
   "cell_type": "code",
   "execution_count": 25,
   "id": "68c9de55-bb8e-498c-b28c-771c71a755b4",
   "metadata": {
    "tags": []
   },
   "outputs": [
    {
     "data": {
      "text/plain": [
       "2"
      ]
     },
     "execution_count": 25,
     "metadata": {},
     "output_type": "execute_result"
    }
   ],
   "source": [
    "a"
   ]
  },
  {
   "cell_type": "code",
   "execution_count": null,
   "id": "76c334cc-8390-46c6-8e00-b9720a2b3c29",
   "metadata": {},
   "outputs": [],
   "source": []
  }
 ],
 "metadata": {
  "kernelspec": {
   "display_name": "Python 3 (ipykernel)",
   "language": "python",
   "name": "python3"
  },
  "language_info": {
   "codemirror_mode": {
    "name": "ipython",
    "version": 3
   },
   "file_extension": ".py",
   "mimetype": "text/x-python",
   "name": "python",
   "nbconvert_exporter": "python",
   "pygments_lexer": "ipython3",
   "version": "3.10.6"
  }
 },
 "nbformat": 4,
 "nbformat_minor": 5
}
