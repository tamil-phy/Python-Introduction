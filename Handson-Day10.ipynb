{
 "cells": [
  {
   "cell_type": "markdown",
   "id": "4f3d50c8",
   "metadata": {},
   "source": [
    "# Grocery List Manager: "
   ]
  },
  {
   "cell_type": "code",
   "execution_count": 1,
   "id": "4347f009",
   "metadata": {},
   "outputs": [],
   "source": [
    "grocery_list = {}"
   ]
  },
  {
   "cell_type": "code",
   "execution_count": 2,
   "id": "2623b225",
   "metadata": {},
   "outputs": [],
   "source": [
    "def add_item(item,quantity): # this function takes two parameters\n",
    "    if item in grocery_list: # it checks for the item list \n",
    "        grocery_list[item] += quantity\n",
    "    else:\n",
    "        grocery_list[item] = quantity\n",
    "    print(f\"{quantity} {item} added to the list.\")"
   ]
  },
  {
   "cell_type": "code",
   "execution_count": 3,
   "id": "b0d57798",
   "metadata": {},
   "outputs": [],
   "source": [
    "def remove_item(item, quantity):\n",
    "    if item in grocery_list:\n",
    "        if grocery_list[item] > quantity:\n",
    "            grocery_list[item] -= quantity\n",
    "            print(f\"{quantity} {item} removed from the list.\")\n",
    "        else:\n",
    "            del grocery_list[item]\n",
    "            print(f\"All {item} removed from the list.\")\n",
    "    else:\n",
    "        print(f\"{item} not found in the list.\")\n"
   ]
  },
  {
   "cell_type": "code",
   "execution_count": 4,
   "id": "b127a5d5",
   "metadata": {},
   "outputs": [],
   "source": [
    "def display_list():\n",
    "    if not grocery_list:\n",
    "        print(\"Grocery list is empty.\")\n",
    "    else:\n",
    "        print(\"Grocery List:\")\n",
    "        for item, quantity in grocery_list.items():\n",
    "            print(f\"{quantity} {item}\")"
   ]
  },
  {
   "cell_type": "code",
   "execution_count": 5,
   "id": "81b3b993",
   "metadata": {},
   "outputs": [
    {
     "name": "stdout",
     "output_type": "stream",
     "text": [
      "Grocery list is empty.\n"
     ]
    }
   ],
   "source": [
    "display_list()"
   ]
  },
  {
   "cell_type": "code",
   "execution_count": null,
   "id": "ff86505d",
   "metadata": {},
   "outputs": [],
   "source": [
    "display_list()"
   ]
  },
  {
   "cell_type": "code",
   "execution_count": null,
   "id": "bec1b8b6",
   "metadata": {},
   "outputs": [],
   "source": [
    "remove_item(\"tomato in kg\", 2)"
   ]
  },
  {
   "cell_type": "code",
   "execution_count": null,
   "id": "5870fb89",
   "metadata": {},
   "outputs": [],
   "source": [
    "display_list()"
   ]
  },
  {
   "cell_type": "code",
   "execution_count": 6,
   "id": "863d65ad",
   "metadata": {},
   "outputs": [
    {
     "name": "stdout",
     "output_type": "stream",
     "text": [
      "2 kg tomato added to the list.\n"
     ]
    }
   ],
   "source": [
    "add_item(\"kg tomato\", 2)"
   ]
  },
  {
   "cell_type": "code",
   "execution_count": null,
   "id": "6dd695a8",
   "metadata": {},
   "outputs": [],
   "source": [
    "add_item(\"cherry\",0.5)"
   ]
  },
  {
   "cell_type": "code",
   "execution_count": 7,
   "id": "295ee1a0",
   "metadata": {},
   "outputs": [
    {
     "name": "stdout",
     "output_type": "stream",
     "text": [
      "Grocery List:\n",
      "2 kg tomato\n"
     ]
    }
   ],
   "source": [
    "display_list()"
   ]
  },
  {
   "cell_type": "code",
   "execution_count": null,
   "id": "0e9d5de3",
   "metadata": {},
   "outputs": [],
   "source": [
    "remove_item(\"kg tomato\",1.5)"
   ]
  },
  {
   "cell_type": "code",
   "execution_count": null,
   "id": "9e129c2d",
   "metadata": {},
   "outputs": [],
   "source": [
    "display_list()"
   ]
  },
  {
   "cell_type": "code",
   "execution_count": null,
   "id": "0f356058",
   "metadata": {},
   "outputs": [],
   "source": [
    "remove_item('apples',1)"
   ]
  },
  {
   "cell_type": "code",
   "execution_count": null,
   "id": "b735566e",
   "metadata": {},
   "outputs": [],
   "source": [
    "display_list()"
   ]
  },
  {
   "cell_type": "code",
   "execution_count": null,
   "id": "bd91b625",
   "metadata": {},
   "outputs": [],
   "source": [
    "remove_item('orange',1)"
   ]
  },
  {
   "cell_type": "code",
   "execution_count": null,
   "id": "3ea385dd",
   "metadata": {},
   "outputs": [],
   "source": [
    "remove_item(\"kg tomato\",5)"
   ]
  },
  {
   "cell_type": "code",
   "execution_count": null,
   "id": "5b18e94a",
   "metadata": {},
   "outputs": [],
   "source": [
    "display_list()"
   ]
  },
  {
   "cell_type": "code",
   "execution_count": null,
   "id": "6c66646b",
   "metadata": {},
   "outputs": [],
   "source": []
  }
 ],
 "metadata": {
  "kernelspec": {
   "display_name": "Python 3 (ipykernel)",
   "language": "python",
   "name": "python3"
  },
  "language_info": {
   "codemirror_mode": {
    "name": "ipython",
    "version": 3
   },
   "file_extension": ".py",
   "mimetype": "text/x-python",
   "name": "python",
   "nbconvert_exporter": "python",
   "pygments_lexer": "ipython3",
   "version": "3.10.6"
  }
 },
 "nbformat": 4,
 "nbformat_minor": 5
}
