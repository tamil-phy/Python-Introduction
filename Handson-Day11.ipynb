{
 "cells": [
  {
   "cell_type": "code",
   "execution_count": 2,
   "id": "15821bc3",
   "metadata": {},
   "outputs": [],
   "source": [
    "expenses = {} # Creating a empty dictionary"
   ]
  },
  {
   "cell_type": "code",
   "execution_count": 11,
   "id": "8dae5347",
   "metadata": {},
   "outputs": [],
   "source": [
    "# function -  to add a new expense\n",
    "def add_expense(category, date, amount):\n",
    "    if category in expenses:\n",
    "        if date in expenses[category]:\n",
    "            expenses[category][date].append(amount)\n",
    "        else:\n",
    "            expenses[category][date] = [amount]\n",
    "    else:\n",
    "        expenses[category] = {date: [amount]}\n",
    "    print(f'Added expense of rs.{amount} in {category} on {date}.')    "
   ]
  },
  {
   "cell_type": "code",
   "execution_count": 19,
   "id": "dc924e89",
   "metadata": {},
   "outputs": [
    {
     "name": "stdout",
     "output_type": "stream",
     "text": [
      "Added expense of rs.100 in Food on 2023-03-18.\n"
     ]
    }
   ],
   "source": [
    "add_expense(\"Food\",'2023-03-18', 100)"
   ]
  },
  {
   "cell_type": "code",
   "execution_count": 29,
   "id": "f2983219",
   "metadata": {},
   "outputs": [],
   "source": [
    "#function - to remove an expense \n",
    "\n",
    "def remove_expense(category, date, index):\n",
    "\n",
    "    if category in expenses and date in expenses[category]:\n",
    "        if index < len(expenses[category][date]):\n",
    "            amount = expenses[category][date].pop(index)\n",
    "            if not expenses[category][date]:\n",
    "                del expenses[category][date]\n",
    "            if not expenses[category]:\n",
    "                del expenses[category]\n",
    "            print(f\"Removed expense of {amount} from {category} category on {date}.\")\n",
    "        else:\n",
    "            print(\"Invalid expense index.\")\n",
    "    else:\n",
    "        print(\"Expense not found.\")\n",
    "            "
   ]
  },
  {
   "cell_type": "code",
   "execution_count": 39,
   "id": "7d4825ec",
   "metadata": {},
   "outputs": [],
   "source": [
    "# function - display \n",
    "def display_expense():\n",
    "    if not expenses:\n",
    "        print('No expenses found.')\n",
    "    else:\n",
    "        for category in expenses:\n",
    "            print(f'{category}:')\n",
    "            for date in expenses[category]:\n",
    "                print(f'\\t{date}: {expenses[category][date]}')"
   ]
  },
  {
   "cell_type": "code",
   "execution_count": 24,
   "id": "2de45457",
   "metadata": {},
   "outputs": [
    {
     "name": "stdout",
     "output_type": "stream",
     "text": [
      "Expense not found for Food category on 2023-03-18.\n"
     ]
    }
   ],
   "source": [
    "remove_expense(\"Food\",\"2023-03-18\", 100)"
   ]
  },
  {
   "cell_type": "code",
   "execution_count": 28,
   "id": "6e43e8dc",
   "metadata": {},
   "outputs": [
    {
     "data": {
      "text/plain": [
       "3"
      ]
     },
     "execution_count": 28,
     "metadata": {},
     "output_type": "execute_result"
    }
   ],
   "source": [
    "a = [1,2,3]\n",
    "len(a)"
   ]
  },
  {
   "cell_type": "code",
   "execution_count": 26,
   "id": "27937dc6",
   "metadata": {},
   "outputs": [
    {
     "name": "stdout",
     "output_type": "stream",
     "text": [
      "Added expense of rs.10.5 in Food on 2022-01-01.\n",
      "Added expense of rs.5.0 in Transportation on 2022-01-01.\n",
      "Added expense of rs.8.75 in Food on 2022-01-02.\n"
     ]
    }
   ],
   "source": [
    "add_expense(\"Food\", \"2022-01-01\", 10.5)\n",
    "add_expense(\"Transportation\", \"2022-01-01\", 5.0)\n",
    "add_expense(\"Food\", \"2022-01-02\", 8.75)"
   ]
  },
  {
   "cell_type": "code",
   "execution_count": 40,
   "id": "bc83d2d9",
   "metadata": {},
   "outputs": [
    {
     "name": "stdout",
     "output_type": "stream",
     "text": [
      "Food:\n",
      "\t2023-03-18: ['$10', 10, 100, 100, 100, 100]\n",
      "\t2022-01-01: [10.5]\n",
      "\t2022-01-02: [8.75]\n",
      "Transportation:\n",
      "\t2022-01-01: [5.0]\n"
     ]
    }
   ],
   "source": [
    "display_expense()"
   ]
  },
  {
   "cell_type": "code",
   "execution_count": 41,
   "id": "6a18ccd6",
   "metadata": {},
   "outputs": [
    {
     "name": "stdout",
     "output_type": "stream",
     "text": [
      "Removed expense of $10 from Food category on 2023-03-18.\n"
     ]
    }
   ],
   "source": [
    "remove_expense(\"Food\",\"2023-03-18\",0)"
   ]
  },
  {
   "cell_type": "code",
   "execution_count": 42,
   "id": "21361178",
   "metadata": {},
   "outputs": [
    {
     "name": "stdout",
     "output_type": "stream",
     "text": [
      "Food:\n",
      "\t2023-03-18: [10, 100, 100, 100, 100]\n",
      "\t2022-01-01: [10.5]\n",
      "\t2022-01-02: [8.75]\n",
      "Transportation:\n",
      "\t2022-01-01: [5.0]\n"
     ]
    }
   ],
   "source": [
    "display_expense()"
   ]
  },
  {
   "cell_type": "code",
   "execution_count": null,
   "id": "21c3fb26",
   "metadata": {},
   "outputs": [],
   "source": []
  }
 ],
 "metadata": {
  "kernelspec": {
   "display_name": "Python 3 (ipykernel)",
   "language": "python",
   "name": "python3"
  },
  "language_info": {
   "codemirror_mode": {
    "name": "ipython",
    "version": 3
   },
   "file_extension": ".py",
   "mimetype": "text/x-python",
   "name": "python",
   "nbconvert_exporter": "python",
   "pygments_lexer": "ipython3",
   "version": "3.10.6"
  }
 },
 "nbformat": 4,
 "nbformat_minor": 5
}
