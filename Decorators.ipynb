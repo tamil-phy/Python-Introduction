{
 "cells": [
  {
   "cell_type": "markdown",
   "id": "93ad0685-f8a9-41c3-afa2-50ad71c50316",
   "metadata": {
    "tags": []
   },
   "source": [
    "# \"*args\" - It is used to pass a variable number of non-keyword arguments(positional arguments) to a function. "
   ]
  },
  {
   "cell_type": "code",
   "execution_count": 4,
   "id": "99caa329-e1ce-44c4-ab15-39c52a9a2adf",
   "metadata": {
    "tags": []
   },
   "outputs": [],
   "source": [
    "def my_function(*args):\n",
    "    for arg in args:\n",
    "        print(arg)\n",
    "\n",
    "\n"
   ]
  },
  {
   "cell_type": "code",
   "execution_count": 8,
   "id": "8b1370dc-106c-49c0-8478-904018b68706",
   "metadata": {
    "tags": []
   },
   "outputs": [
    {
     "name": "stdout",
     "output_type": "stream",
     "text": [
      "1\n",
      "2\n",
      "3\n",
      "4\n",
      "5\n",
      "7\n",
      "8\n",
      "9\n",
      "10\n",
      "11\n"
     ]
    }
   ],
   "source": [
    "my_function(1, 2, 3, 4, 5,7,8,9,10,11)"
   ]
  },
  {
   "cell_type": "code",
   "execution_count": 3,
   "id": "3e8ea0cd-1ea4-4221-915f-6773f631512f",
   "metadata": {
    "tags": []
   },
   "outputs": [
    {
     "name": "stdout",
     "output_type": "stream",
     "text": [
      "1\n",
      "2\n",
      "3\n",
      "4\n",
      "5\n"
     ]
    }
   ],
   "source": [
    "my_function= [1, 2, 3, 4, 5]\n",
    "for num in my_function:\n",
    "    print(num)\n"
   ]
  },
  {
   "cell_type": "markdown",
   "id": "f8a6e200-69b1-4c9c-8ed8-5579baf2a2c3",
   "metadata": {},
   "source": [
    "# \"**kwargs\" - It is used to pass a variable number of keyword arguments(or named arguments) to a function."
   ]
  },
  {
   "cell_type": "code",
   "execution_count": 9,
   "id": "1b01cb23-d430-4648-834e-754f9bcc5ce4",
   "metadata": {
    "tags": []
   },
   "outputs": [],
   "source": [
    "def my_function(**kwargs):\n",
    "    for key, value in kwargs.items():\n",
    "        print(key, value)"
   ]
  },
  {
   "cell_type": "code",
   "execution_count": 11,
   "id": "981b182f-5ab4-45d4-9a16-6c694dce7d70",
   "metadata": {
    "tags": []
   },
   "outputs": [
    {
     "name": "stdout",
     "output_type": "stream",
     "text": [
      "name Tamil\n",
      "age 34\n",
      "city chennai\n"
     ]
    }
   ],
   "source": [
    "my_function(name=\"Tamil\",age=34,city=\"chennai\")"
   ]
  },
  {
   "cell_type": "markdown",
   "id": "a32ae13b-7c23-4cc8-9fa0-58035daf1cfc",
   "metadata": {
    "tags": []
   },
   "source": [
    "# Decorators"
   ]
  },
  {
   "cell_type": "markdown",
   "id": "9f3c888a-da39-4651-8a38-d0815b5b37d0",
   "metadata": {},
   "source": [
    "# Example-1"
   ]
  },
  {
   "cell_type": "code",
   "execution_count": 1,
   "id": "a513ce25-a805-4086-a2c5-e71e48f10911",
   "metadata": {
    "tags": []
   },
   "outputs": [],
   "source": [
    "def decorator_function(original_function):\n",
    "    def wrapper_function(*args, **kwargs):\n",
    "        print(\"Before the function is called\")\n",
    "        result = original_function(*args,**kwargs)\n",
    "        print(\"After the function is called\")\n",
    "        return result\n",
    "    return wrapper_function"
   ]
  },
  {
   "cell_type": "code",
   "execution_count": 17,
   "id": "8e34349f-079e-49fc-91a6-687eb0d0d563",
   "metadata": {
    "tags": []
   },
   "outputs": [],
   "source": [
    "@decorator_function\n",
    "def greet():\n",
    "    print(\"Hello, world!\")"
   ]
  },
  {
   "cell_type": "code",
   "execution_count": 18,
   "id": "05c5da89-f2fa-4680-acd8-7bd9f6c801ae",
   "metadata": {
    "tags": []
   },
   "outputs": [
    {
     "name": "stdout",
     "output_type": "stream",
     "text": [
      "Before the function is called\n",
      "Hello, world!\n",
      "After the function is called\n"
     ]
    }
   ],
   "source": [
    "greet()"
   ]
  },
  {
   "cell_type": "markdown",
   "id": "80c9daa1-afce-444d-a70e-03a80f359b98",
   "metadata": {},
   "source": [
    "# Example-2"
   ]
  },
  {
   "cell_type": "code",
   "execution_count": 19,
   "id": "04b157c8-9929-46a1-96e2-d63e92066cd5",
   "metadata": {
    "tags": []
   },
   "outputs": [],
   "source": [
    "def uppercase_decorator(original_function):\n",
    "    def wrapper_function(*args,**kwargs):\n",
    "        result = original_function(*args,**kwargs)\n",
    "        return result.upper()\n",
    "    return wrapper_function"
   ]
  },
  {
   "cell_type": "code",
   "execution_count": 23,
   "id": "959fc04d-8dcf-4172-85ed-5a232af430a1",
   "metadata": {
    "tags": []
   },
   "outputs": [],
   "source": [
    "@uppercase_decorator\n",
    "def greet(name):\n",
    "    return f\"Hello,{name}!\""
   ]
  },
  {
   "cell_type": "code",
   "execution_count": 24,
   "id": "21062801-c9d8-43cf-aa17-28cbd0eeaa6a",
   "metadata": {
    "tags": []
   },
   "outputs": [
    {
     "name": "stdout",
     "output_type": "stream",
     "text": [
      "HELLO,TAMIL!\n"
     ]
    }
   ],
   "source": [
    "print(greet(\"Tamil\"))"
   ]
  },
  {
   "cell_type": "markdown",
   "id": "3f0aded4-6191-421a-9ea1-c5a2a3addcee",
   "metadata": {},
   "source": [
    "# Example-3"
   ]
  },
  {
   "cell_type": "code",
   "execution_count": 25,
   "id": "d714ebb5-b915-4444-8c48-2a5afe6e7d46",
   "metadata": {
    "tags": []
   },
   "outputs": [],
   "source": [
    "def repeat_decorator(repeat_times):\n",
    "    def decorator_function(original_function):\n",
    "        def wrapper_function(*args,**kwargs):\n",
    "            for _ in range(repeat_times):\n",
    "                result = original_function(*args,**kwargs)\n",
    "            return result\n",
    "        return wrapper_function\n",
    "    return decorator_function"
   ]
  },
  {
   "cell_type": "code",
   "execution_count": 29,
   "id": "3afe4443-0052-4b9c-ae09-758d15f87d8e",
   "metadata": {
    "tags": []
   },
   "outputs": [],
   "source": [
    "@repeat_decorator(3)\n",
    "def greet(name):\n",
    "    print(f\"Hello, {name}!\")"
   ]
  },
  {
   "cell_type": "code",
   "execution_count": 30,
   "id": "27347241-05bf-4107-9402-cc527e375d76",
   "metadata": {
    "tags": []
   },
   "outputs": [
    {
     "name": "stdout",
     "output_type": "stream",
     "text": [
      "Hello, Tamil!\n",
      "Hello, Tamil!\n",
      "Hello, Tamil!\n",
      "None\n"
     ]
    }
   ],
   "source": [
    "print(greet(\"Tamil\"))"
   ]
  },
  {
   "cell_type": "code",
   "execution_count": 31,
   "id": "e3b1b73e-de27-4c3a-b3a8-b5a04bab6902",
   "metadata": {
    "tags": []
   },
   "outputs": [
    {
     "name": "stdout",
     "output_type": "stream",
     "text": [
      "Hello, Tamil!\n",
      "Hello, Tamil!\n",
      "Hello, Tamil!\n"
     ]
    }
   ],
   "source": [
    "def repeat_decorator(repeat_times):\n",
    "    def decorator_function(original_function):\n",
    "        def wrapper_function(*args, **kwargs):\n",
    "            for _ in range(repeat_times):\n",
    "                result = original_function(*args, **kwargs)\n",
    "            return result\n",
    "        return wrapper_function\n",
    "    return decorator_function\n",
    "\n",
    "@repeat_decorator(3)\n",
    "def greet(name):\n",
    "    print(f\"Hello, {name}!\")\n",
    "\n",
    "greet(\"Tamil\")"
   ]
  },
  {
   "cell_type": "code",
   "execution_count": null,
   "id": "0986573e-62cf-4972-97a8-7a35ab358022",
   "metadata": {},
   "outputs": [],
   "source": []
  }
 ],
 "metadata": {
  "kernelspec": {
   "display_name": "Python 3 (ipykernel)",
   "language": "python",
   "name": "python3"
  },
  "language_info": {
   "codemirror_mode": {
    "name": "ipython",
    "version": 3
   },
   "file_extension": ".py",
   "mimetype": "text/x-python",
   "name": "python",
   "nbconvert_exporter": "python",
   "pygments_lexer": "ipython3",
   "version": "3.10.6"
  }
 },
 "nbformat": 4,
 "nbformat_minor": 5
}
