{
 "cells": [
  {
   "cell_type": "code",
   "execution_count": 2,
   "id": "31fa8139-1160-4db2-8a02-e9cc14f6f479",
   "metadata": {
    "tags": []
   },
   "outputs": [],
   "source": [
    "class FileManager:\n",
    "    def __init__(self,filename):\n",
    "        self.filename = filename\n",
    "        self.file = None\n",
    "        \n",
    "    def __enter__(self):\n",
    "        self.file = open(self.filename,'w')\n",
    "        return self.file\n",
    "    \n",
    "    def __exit__(self,exc_type,exc_value,exc_traceback):\n",
    "        self.file.close()"
   ]
  },
  {
   "cell_type": "code",
   "execution_count": 3,
   "id": "1ecd5d25-cf89-4153-aeda-e2bccca688ac",
   "metadata": {},
   "outputs": [],
   "source": [
    "with FileManager('trial.txt') as file:\n",
    "    file.write(\"This how we make use of context manager efficiently!\")"
   ]
  },
  {
   "cell_type": "code",
   "execution_count": null,
   "id": "6cf144da-cd2f-459d-b753-c2e3d150cc0b",
   "metadata": {},
   "outputs": [],
   "source": []
  }
 ],
 "metadata": {
  "kernelspec": {
   "display_name": "Python 3 (ipykernel)",
   "language": "python",
   "name": "python3"
  },
  "language_info": {
   "codemirror_mode": {
    "name": "ipython",
    "version": 3
   },
   "file_extension": ".py",
   "mimetype": "text/x-python",
   "name": "python",
   "nbconvert_exporter": "python",
   "pygments_lexer": "ipython3",
   "version": "3.10.6"
  }
 },
 "nbformat": 4,
 "nbformat_minor": 5
}
