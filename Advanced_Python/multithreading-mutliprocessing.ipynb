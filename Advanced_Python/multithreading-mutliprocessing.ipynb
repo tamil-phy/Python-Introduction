{
 "cells": [
  {
   "cell_type": "markdown",
   "id": "f3fc50a6-7d32-4bea-bc40-92d984e0f7b9",
   "metadata": {},
   "source": [
    "# Multithreading "
   ]
  },
  {
   "cell_type": "code",
   "execution_count": 12,
   "id": "efbb3498-5693-46c2-8ff3-55abafbc733e",
   "metadata": {
    "tags": []
   },
   "outputs": [],
   "source": [
    "import threading"
   ]
  },
  {
   "cell_type": "code",
   "execution_count": 13,
   "id": "8ecab0f4-ebd5-446f-bc54-4ea80671d2b5",
   "metadata": {
    "tags": []
   },
   "outputs": [],
   "source": [
    "def print_numbers():\n",
    "    for i in range(1,6):\n",
    "        print(i)\n",
    "        \n",
    "def print_letters():\n",
    "    for letter in [\"a\",\"b\",\"c\",\"d\",\"e\"]:\n",
    "        print(letter)"
   ]
  },
  {
   "cell_type": "code",
   "execution_count": 14,
   "id": "34bb9b8c-feb6-4db1-b3dc-cf29ea59329f",
   "metadata": {
    "tags": []
   },
   "outputs": [],
   "source": [
    "t1 = threading.Thread(target=print_numbers)\n",
    "t2 = threading.Thread(target = print_letters)"
   ]
  },
  {
   "cell_type": "code",
   "execution_count": 15,
   "id": "212f7f0d-d668-4b3c-81eb-744722f415b6",
   "metadata": {
    "tags": []
   },
   "outputs": [
    {
     "name": "stdout",
     "output_type": "stream",
     "text": [
      "1\n",
      "2\n",
      "3\n",
      "4\n",
      "5\n",
      "a\n",
      "b\n",
      "c\n",
      "d\n",
      "e\n"
     ]
    }
   ],
   "source": [
    "t1.start()\n",
    "t2.start()\n",
    "t1.join()\n",
    "t2.join()"
   ]
  },
  {
   "cell_type": "code",
   "execution_count": 24,
   "id": "d0397867-77ba-46d4-a2bb-65547712a51b",
   "metadata": {
    "tags": []
   },
   "outputs": [],
   "source": [
    "import multiprocessing"
   ]
  },
  {
   "cell_type": "code",
   "execution_count": 25,
   "id": "fb6475a2-e4f3-4049-a3cb-5280fcf46425",
   "metadata": {
    "tags": []
   },
   "outputs": [],
   "source": [
    "def calculation_square(number):\n",
    "    result = number*number\n",
    "    print(f\"square of {number} is {result}\")"
   ]
  },
  {
   "cell_type": "code",
   "execution_count": 26,
   "id": "72b512cd-e6f3-4cb1-915d-eb2bc57d0a06",
   "metadata": {
    "tags": []
   },
   "outputs": [],
   "source": [
    "if __name__ == '__main__':\n",
    "    numbers = [1,2,3,4,5]"
   ]
  },
  {
   "cell_type": "code",
   "execution_count": 27,
   "id": "88f2a00c-df50-449f-9f73-f49a6e20ead0",
   "metadata": {
    "tags": []
   },
   "outputs": [
    {
     "name": "stdout",
     "output_type": "stream",
     "text": [
      "square of 5 is 25square of 4 is 16square of 3 is 9\n",
      "\n",
      "\n",
      "square of 2 is 4\n",
      "square of 1 is 1\n"
     ]
    }
   ],
   "source": [
    "pool = multiprocessing.Pool()"
   ]
  },
  {
   "cell_type": "code",
   "execution_count": 28,
   "id": "fc98d309-34a1-4228-82ff-20e72c83645f",
   "metadata": {
    "tags": []
   },
   "outputs": [],
   "source": [
    "results = pool.map(calculation_square,numbers)\n",
    "pool.close()\n",
    "pool.join()"
   ]
  },
  {
   "cell_type": "code",
   "execution_count": 31,
   "id": "1c5284d7-7649-433d-83a4-2080374029db",
   "metadata": {
    "tags": []
   },
   "outputs": [
    {
     "name": "stdout",
     "output_type": "stream",
     "text": [
      "square of 2 is 4square of 3 is 9square of 4 is 16square of 1 is 1square of 5 is 25\n",
      "\n",
      "\n",
      "\n",
      "\n"
     ]
    },
    {
     "ename": "TypeError",
     "evalue": "sequence item 0: expected str instance, NoneType found",
     "output_type": "error",
     "traceback": [
      "\u001b[0;31m---------------------------------------------------------------------------\u001b[0m",
      "\u001b[0;31mTypeError\u001b[0m                                 Traceback (most recent call last)",
      "Cell \u001b[0;32mIn[31], line 7\u001b[0m\n\u001b[1;32m      5\u001b[0m pool\u001b[38;5;241m.\u001b[39mclose()\n\u001b[1;32m      6\u001b[0m pool\u001b[38;5;241m.\u001b[39mjoin()\n\u001b[0;32m----> 7\u001b[0m \u001b[38;5;28mprint\u001b[39m(\u001b[38;5;124;43m'\u001b[39;49m\u001b[38;5;130;43;01m\\n\u001b[39;49;00m\u001b[38;5;124;43m'\u001b[39;49m\u001b[38;5;241;43m.\u001b[39;49m\u001b[43mjoin\u001b[49m\u001b[43m(\u001b[49m\u001b[43mresults\u001b[49m\u001b[43m)\u001b[49m)\n",
      "\u001b[0;31mTypeError\u001b[0m: sequence item 0: expected str instance, NoneType found"
     ]
    }
   ],
   "source": [
    "\n",
    "if __name__ == '__main__':\n",
    "    numbers = [1, 2, 3, 4, 5]\n",
    "    pool = multiprocessing.Pool()\n",
    "    results = pool.map(calculation_square, numbers)\n",
    "    pool.close()\n",
    "    pool.join()\n",
    "    print('\\n'.join(results))"
   ]
  },
  {
   "cell_type": "code",
   "execution_count": 32,
   "id": "ba85bcb9-f435-4905-8dea-0ad4eeb50972",
   "metadata": {
    "tags": []
   },
   "outputs": [
    {
     "name": "stdout",
     "output_type": "stream",
     "text": [
      "Square of 1 is 1\n",
      "Square of 2 is 4\n",
      "Square of 3 is 9\n",
      "Square of 4 is 16\n",
      "Square of 5 is 25\n"
     ]
    }
   ],
   "source": [
    "import multiprocessing\n",
    "\n",
    "def calculate_square(number):\n",
    "    result = number * number\n",
    "    return f\"Square of {number} is {result}\"\n",
    "\n",
    "if __name__ == '__main__':\n",
    "    numbers = [1, 2, 3, 4, 5]\n",
    "    \n",
    "    pool = multiprocessing.Pool()\n",
    "    \n",
    "    results = pool.map(calculate_square, numbers)\n",
    "    \n",
    "    pool.close()\n",
    "    pool.join()\n",
    "    \n",
    "    print('\\n'.join(results))\n"
   ]
  },
  {
   "cell_type": "code",
   "execution_count": null,
   "id": "98d6940a-81b9-4c71-97a8-740d82294f86",
   "metadata": {},
   "outputs": [],
   "source": []
  }
 ],
 "metadata": {
  "kernelspec": {
   "display_name": "Python 3 (ipykernel)",
   "language": "python",
   "name": "python3"
  },
  "language_info": {
   "codemirror_mode": {
    "name": "ipython",
    "version": 3
   },
   "file_extension": ".py",
   "mimetype": "text/x-python",
   "name": "python",
   "nbconvert_exporter": "python",
   "pygments_lexer": "ipython3",
   "version": "3.10.6"
  }
 },
 "nbformat": 4,
 "nbformat_minor": 5
}
