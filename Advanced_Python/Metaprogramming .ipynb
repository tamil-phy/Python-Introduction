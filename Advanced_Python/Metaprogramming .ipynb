{
 "cells": [
  {
   "cell_type": "markdown",
   "id": "9aaac2a7",
   "metadata": {},
   "source": [
    "# Example-1"
   ]
  },
  {
   "cell_type": "code",
   "execution_count": 1,
   "id": "1dc99308",
   "metadata": {},
   "outputs": [],
   "source": [
    "def create_class(class_name,attribute_names):\n",
    "    attributes = {name: None for name in attribute_names}\n",
    "    return type(class_name,(),attributes)"
   ]
  },
  {
   "cell_type": "code",
   "execution_count": 2,
   "id": "1541d202",
   "metadata": {},
   "outputs": [],
   "source": [
    "myclass = create_class(\"myclass\",[\"attribute1\", \"attribute2\"]) # creating class dynamically"
   ]
  },
  {
   "cell_type": "code",
   "execution_count": 3,
   "id": "e9c105ad",
   "metadata": {},
   "outputs": [],
   "source": [
    "obj = myclass()"
   ]
  },
  {
   "cell_type": "code",
   "execution_count": 4,
   "id": "9d35c0d5",
   "metadata": {},
   "outputs": [
    {
     "name": "stdout",
     "output_type": "stream",
     "text": [
      "None\n"
     ]
    }
   ],
   "source": [
    "print(obj.attribute1)"
   ]
  },
  {
   "cell_type": "code",
   "execution_count": 5,
   "id": "a7db9efb",
   "metadata": {},
   "outputs": [],
   "source": [
    "obj.attribute1 = 34\n",
    "obj.attribute2 = \"Hi! Tamil!\""
   ]
  },
  {
   "cell_type": "code",
   "execution_count": 7,
   "id": "8dfd83df",
   "metadata": {},
   "outputs": [
    {
     "name": "stdout",
     "output_type": "stream",
     "text": [
      "34\n",
      "Hi! Tamil!\n"
     ]
    }
   ],
   "source": [
    "print(obj.attribute1)\n",
    "print(obj.attribute2)"
   ]
  },
  {
   "cell_type": "markdown",
   "id": "365099a1",
   "metadata": {},
   "source": [
    "# Example-2"
   ]
  },
  {
   "cell_type": "code",
   "execution_count": 8,
   "id": "f7f072d2",
   "metadata": {},
   "outputs": [],
   "source": [
    "from dataclasses import dataclass"
   ]
  },
  {
   "cell_type": "code",
   "execution_count": 13,
   "id": "db864c97",
   "metadata": {},
   "outputs": [],
   "source": [
    "@dataclass\n",
    "class Person:\n",
    "    name: str\n",
    "    #age: int\n",
    "    height: float    "
   ]
  },
  {
   "cell_type": "code",
   "execution_count": 14,
   "id": "6fe2a7fe",
   "metadata": {},
   "outputs": [],
   "source": [
    "person = Person(\"Tamil\", \"138.9\")"
   ]
  },
  {
   "cell_type": "code",
   "execution_count": 15,
   "id": "3fcfe6d0",
   "metadata": {},
   "outputs": [
    {
     "name": "stdout",
     "output_type": "stream",
     "text": [
      "138.9\n"
     ]
    }
   ],
   "source": [
    "print(person.height)"
   ]
  },
  {
   "cell_type": "markdown",
   "id": "ccd2c08e",
   "metadata": {},
   "source": [
    "# Example-3"
   ]
  },
  {
   "cell_type": "code",
   "execution_count": 16,
   "id": "a9e8a5dc",
   "metadata": {},
   "outputs": [],
   "source": [
    "def uppercase_decorator(func):\n",
    "    def wrapper(text):\n",
    "        modified_text = text.upper()        \n",
    "        return func(modified_text)\n",
    "    return wrapper"
   ]
  },
  {
   "cell_type": "code",
   "execution_count": 17,
   "id": "845192fc",
   "metadata": {},
   "outputs": [],
   "source": [
    "@uppercase_decorator\n",
    "def greet(name):\n",
    "    print(f\"Hello, {name}!\")"
   ]
  },
  {
   "cell_type": "code",
   "execution_count": 19,
   "id": "c17ce8ae",
   "metadata": {},
   "outputs": [
    {
     "name": "stdout",
     "output_type": "stream",
     "text": [
      "Hello, TAMIL!\n"
     ]
    }
   ],
   "source": [
    "greet(\"tamil\")"
   ]
  },
  {
   "cell_type": "code",
   "execution_count": null,
   "id": "38443edc",
   "metadata": {},
   "outputs": [],
   "source": []
  }
 ],
 "metadata": {
  "kernelspec": {
   "display_name": "Python 3 (ipykernel)",
   "language": "python",
   "name": "python3"
  },
  "language_info": {
   "codemirror_mode": {
    "name": "ipython",
    "version": 3
   },
   "file_extension": ".py",
   "mimetype": "text/x-python",
   "name": "python",
   "nbconvert_exporter": "python",
   "pygments_lexer": "ipython3",
   "version": "3.10.6"
  }
 },
 "nbformat": 4,
 "nbformat_minor": 5
}
