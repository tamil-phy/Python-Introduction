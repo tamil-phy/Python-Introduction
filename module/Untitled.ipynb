{
 "cells": [
  {
   "cell_type": "code",
   "execution_count": 2,
   "id": "151740de-a9b7-42e1-aa58-bcd9d9528db1",
   "metadata": {
    "tags": []
   },
   "outputs": [
    {
     "ename": "TypeError",
     "evalue": "'int' object is not iterable",
     "output_type": "error",
     "traceback": [
      "\u001b[0;31m---------------------------------------------------------------------------\u001b[0m",
      "\u001b[0;31mTypeError\u001b[0m                                 Traceback (most recent call last)",
      "Cell \u001b[0;32mIn[2], line 1\u001b[0m\n\u001b[0;32m----> 1\u001b[0m \u001b[38;5;28;43msum\u001b[39;49m\u001b[43m(\u001b[49m\u001b[38;5;241;43m1\u001b[39;49m\u001b[43m,\u001b[49m\u001b[38;5;241;43m2\u001b[39;49m\u001b[43m)\u001b[49m\n",
      "\u001b[0;31mTypeError\u001b[0m: 'int' object is not iterable"
     ]
    }
   ],
   "source": [
    "sum(1,2)"
   ]
  },
  {
   "cell_type": "code",
   "execution_count": 3,
   "id": "efcb28cb-d4ff-47a8-b62b-3c72bec3c583",
   "metadata": {
    "tags": []
   },
   "outputs": [],
   "source": [
    "def sum(a,b):\n",
    "    c = a+b\n",
    "    return c"
   ]
  },
  {
   "cell_type": "code",
   "execution_count": 4,
   "id": "fa4accf7-b03b-4e4e-a2ac-fddccd013efb",
   "metadata": {
    "tags": []
   },
   "outputs": [
    {
     "data": {
      "text/plain": [
       "3"
      ]
     },
     "execution_count": 4,
     "metadata": {},
     "output_type": "execute_result"
    }
   ],
   "source": [
    "sum(1,2)"
   ]
  },
  {
   "cell_type": "code",
   "execution_count": 5,
   "id": "b880ae84-54bd-4384-95fa-88a3316fa3d2",
   "metadata": {
    "tags": []
   },
   "outputs": [],
   "source": [
    "import math\n",
    "def area_circle(r):\n",
    "    area = math.pi * r**2\n",
    "    return area"
   ]
  },
  {
   "cell_type": "code",
   "execution_count": 6,
   "id": "6cd3eb08-993a-4fe0-a578-3afd630344ea",
   "metadata": {
    "tags": []
   },
   "outputs": [
    {
     "data": {
      "text/plain": [
       "12.566370614359172"
      ]
     },
     "execution_count": 6,
     "metadata": {},
     "output_type": "execute_result"
    }
   ],
   "source": [
    "area_circle(2)"
   ]
  },
  {
   "cell_type": "code",
   "execution_count": 7,
   "id": "1a28b9e7-0f84-4011-889a-a17c96a37e19",
   "metadata": {
    "tags": []
   },
   "outputs": [],
   "source": [
    "from math import pi"
   ]
  },
  {
   "cell_type": "code",
   "execution_count": 8,
   "id": "7e1c817e-6201-43c7-a5d7-67d437687648",
   "metadata": {
    "tags": []
   },
   "outputs": [
    {
     "data": {
      "text/plain": [
       "3.141592653589793"
      ]
     },
     "execution_count": 8,
     "metadata": {},
     "output_type": "execute_result"
    }
   ],
   "source": [
    "pi"
   ]
  },
  {
   "cell_type": "code",
   "execution_count": 9,
   "id": "9fff4335-2420-4ee5-a330-9044069aba62",
   "metadata": {
    "tags": []
   },
   "outputs": [],
   "source": [
    "pi = 3"
   ]
  },
  {
   "cell_type": "code",
   "execution_count": 10,
   "id": "1bc560d3-3d68-4ee7-b934-a38cb43f392b",
   "metadata": {
    "tags": []
   },
   "outputs": [
    {
     "data": {
      "text/plain": [
       "3"
      ]
     },
     "execution_count": 10,
     "metadata": {},
     "output_type": "execute_result"
    }
   ],
   "source": [
    "pi"
   ]
  },
  {
   "cell_type": "code",
   "execution_count": null,
   "id": "57b0279d-efe1-4455-81ae-337065c122f3",
   "metadata": {},
   "outputs": [],
   "source": []
  }
 ],
 "metadata": {
  "kernelspec": {
   "display_name": "Python 3 (ipykernel)",
   "language": "python",
   "name": "python3"
  },
  "language_info": {
   "codemirror_mode": {
    "name": "ipython",
    "version": 3
   },
   "file_extension": ".py",
   "mimetype": "text/x-python",
   "name": "python",
   "nbconvert_exporter": "python",
   "pygments_lexer": "ipython3",
   "version": "3.10.6"
  }
 },
 "nbformat": 4,
 "nbformat_minor": 5
}
