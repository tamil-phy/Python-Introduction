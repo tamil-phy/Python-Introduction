{
 "cells": [
  {
   "cell_type": "markdown",
   "id": "e0e17bb5-910f-4e4b-9ab9-84a8aaed733d",
   "metadata": {},
   "source": [
    "# Generators - type of iterable object that can be used generate a sequence of vales on-the-fly.\n",
    "# **yield** - keyword"
   ]
  },
  {
   "cell_type": "markdown",
   "id": "ce3120cb-892e-49fb-a5cf-9a3f553f00c7",
   "metadata": {},
   "source": [
    "# Example - 1"
   ]
  },
  {
   "cell_type": "code",
   "execution_count": 1,
   "id": "5ce10acb-ebc3-4d6c-bdbb-86c924176d4b",
   "metadata": {
    "tags": []
   },
   "outputs": [],
   "source": [
    "def count_up_to(n):\n",
    "    i = 1\n",
    "    while i <= n:\n",
    "        yield i\n",
    "        i += 1"
   ]
  },
  {
   "cell_type": "code",
   "execution_count": 2,
   "id": "5c2d5403-41e1-4bfa-b621-7ba62bef4988",
   "metadata": {
    "tags": []
   },
   "outputs": [
    {
     "name": "stdout",
     "output_type": "stream",
     "text": [
      "1\n",
      "2\n",
      "3\n",
      "4\n",
      "5\n"
     ]
    }
   ],
   "source": [
    "# Making use of the generator\n",
    "for num in count_up_to(5):\n",
    "    print(num)"
   ]
  },
  {
   "cell_type": "markdown",
   "id": "ff3694fc-7443-4c3e-9dcb-ab5ebc24cc79",
   "metadata": {
    "tags": []
   },
   "source": [
    "# Example - 2 "
   ]
  },
  {
   "cell_type": "code",
   "execution_count": 9,
   "id": "61f55580-25a7-4aa5-bdcd-6206e979fefc",
   "metadata": {
    "tags": []
   },
   "outputs": [],
   "source": [
    "def fib_generator():\n",
    "    a,b = 0,1\n",
    "    while True:\n",
    "        yield a\n",
    "        a,b = b, a+b "
   ]
  },
  {
   "cell_type": "code",
   "execution_count": 10,
   "id": "5ea58ad3-b48b-4537-991c-19ec6c81734e",
   "metadata": {
    "tags": []
   },
   "outputs": [],
   "source": [
    "fib = fib_generator()"
   ]
  },
  {
   "cell_type": "code",
   "execution_count": 11,
   "id": "501c3025-7428-45fe-8191-5649f153cf03",
   "metadata": {
    "tags": []
   },
   "outputs": [
    {
     "name": "stdout",
     "output_type": "stream",
     "text": [
      "0\n",
      "1\n",
      "1\n",
      "2\n",
      "3\n",
      "5\n",
      "8\n",
      "13\n",
      "21\n",
      "34\n"
     ]
    }
   ],
   "source": [
    "for _ in range(10):\n",
    "    print(next(fib))"
   ]
  },
  {
   "cell_type": "code",
   "execution_count": null,
   "id": "7f1fdf7c-7e9f-449c-bb23-dadcecb8cd21",
   "metadata": {},
   "outputs": [],
   "source": []
  }
 ],
 "metadata": {
  "kernelspec": {
   "display_name": "Python 3 (ipykernel)",
   "language": "python",
   "name": "python3"
  },
  "language_info": {
   "codemirror_mode": {
    "name": "ipython",
    "version": 3
   },
   "file_extension": ".py",
   "mimetype": "text/x-python",
   "name": "python",
   "nbconvert_exporter": "python",
   "pygments_lexer": "ipython3",
   "version": "3.10.6"
  }
 },
 "nbformat": 4,
 "nbformat_minor": 5
}
