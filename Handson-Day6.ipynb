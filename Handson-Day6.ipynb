{
 "cells": [
  {
   "cell_type": "markdown",
   "id": "1b06ba11",
   "metadata": {},
   "source": [
    "# Conditions and If Statement"
   ]
  },
  {
   "cell_type": "markdown",
   "id": "80a321d1",
   "metadata": {},
   "source": [
    " a > b "
   ]
  },
  {
   "cell_type": "code",
   "execution_count": 2,
   "id": "59bb672b",
   "metadata": {},
   "outputs": [
    {
     "name": "stdout",
     "output_type": "stream",
     "text": [
      "232\n",
      "233\n",
      "b is greater than a\n"
     ]
    }
   ],
   "source": [
    "a = int(input())\n",
    "b = int(input())\n",
    "if b>a:\n",
    "    print(\"b is greater than a\")"
   ]
  },
  {
   "cell_type": "code",
   "execution_count": 3,
   "id": "f1956288",
   "metadata": {},
   "outputs": [
    {
     "name": "stdout",
     "output_type": "stream",
     "text": [
      "233\n",
      "232\n",
      "a is greater than b\n"
     ]
    }
   ],
   "source": [
    "a = int(input())\n",
    "b = int(input())\n",
    "if b>a:\n",
    "    print(\"b is greater than a\")\n",
    "elif a>b:\n",
    "    print(\"a is greater than b\")"
   ]
  },
  {
   "cell_type": "code",
   "execution_count": 4,
   "id": "8e52308a",
   "metadata": {},
   "outputs": [
    {
     "name": "stdout",
     "output_type": "stream",
     "text": [
      "33\n",
      "33\n",
      "a and b are equal\n"
     ]
    }
   ],
   "source": [
    "a = int(input())\n",
    "b = int(input())\n",
    "if b>a:\n",
    "    print(\"b is greater than a\")\n",
    "elif a>b:\n",
    "    print(\"a is greater than b\")\n",
    "else:\n",
    "    print(\"a and b are equal\")"
   ]
  },
  {
   "cell_type": "markdown",
   "id": "bd939830",
   "metadata": {},
   "source": [
    "# And"
   ]
  },
  {
   "cell_type": "code",
   "execution_count": 5,
   "id": "23fcca06",
   "metadata": {},
   "outputs": [
    {
     "name": "stdout",
     "output_type": "stream",
     "text": [
      "23\n",
      "11\n",
      "24\n",
      "Here both the conditions are true\n"
     ]
    }
   ],
   "source": [
    "a = int(input())\n",
    "b = int(input())\n",
    "c = int(input())\n",
    "if a > b and c > a:\n",
    "    print(\"Here both the conditions are true\")"
   ]
  },
  {
   "cell_type": "code",
   "execution_count": 6,
   "id": "511e60ce",
   "metadata": {},
   "outputs": [
    {
     "name": "stdout",
     "output_type": "stream",
     "text": [
      "23\n",
      "11\n",
      "22\n"
     ]
    }
   ],
   "source": [
    "a = int(input())\n",
    "b = int(input())\n",
    "c = int(input())\n",
    "if a > b and c > a:\n",
    "    print(\"Here both the conditions are true\")"
   ]
  },
  {
   "cell_type": "code",
   "execution_count": 7,
   "id": "35f0a216",
   "metadata": {},
   "outputs": [
    {
     "name": "stdout",
     "output_type": "stream",
     "text": [
      "23\n",
      "11\n",
      "22\n",
      "I hope one of the condition is wrong!\n"
     ]
    }
   ],
   "source": [
    "a = int(input())\n",
    "b = int(input())\n",
    "c = int(input())\n",
    "if a > b and c > a:\n",
    "    print(\"Here both the conditions are true\")\n",
    "else:\n",
    "    print(\"I hope one of the condition is wrong!\")"
   ]
  },
  {
   "cell_type": "markdown",
   "id": "0c1fac4c",
   "metadata": {},
   "source": [
    "# Or & Not"
   ]
  },
  {
   "cell_type": "code",
   "execution_count": 31,
   "id": "a73e7b61",
   "metadata": {},
   "outputs": [
    {
     "name": "stdout",
     "output_type": "stream",
     "text": [
      "7\n"
     ]
    }
   ],
   "source": [
    "x = int(input())"
   ]
  },
  {
   "cell_type": "code",
   "execution_count": 32,
   "id": "de4d20bf",
   "metadata": {},
   "outputs": [],
   "source": [
    "if x > 10:\n",
    "    print(\"It's above ten\")\n",
    "    if x < 10:\n",
    "        print(\"It's below ten\")"
   ]
  },
  {
   "cell_type": "code",
   "execution_count": null,
   "id": "243c8600",
   "metadata": {},
   "outputs": [],
   "source": [
    "if \n",
    "if\n",
    "\n",
    "if \n",
    "elif\n",
    "\n",
    "if\n",
    "else"
   ]
  }
 ],
 "metadata": {
  "kernelspec": {
   "display_name": "Python 3 (ipykernel)",
   "language": "python",
   "name": "python3"
  },
  "language_info": {
   "codemirror_mode": {
    "name": "ipython",
    "version": 3
   },
   "file_extension": ".py",
   "mimetype": "text/x-python",
   "name": "python",
   "nbconvert_exporter": "python",
   "pygments_lexer": "ipython3",
   "version": "3.10.6"
  }
 },
 "nbformat": 4,
 "nbformat_minor": 5
}
