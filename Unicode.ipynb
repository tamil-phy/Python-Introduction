{
 "cells": [
  {
   "cell_type": "markdown",
   "id": "167c049d-cbc6-4c7c-9901-ba9a26fd290e",
   "metadata": {},
   "source": [
    "# Encoding and Decoding"
   ]
  },
  {
   "cell_type": "code",
   "execution_count": 4,
   "id": "9860392b-2340-43be-be26-47e5a24e126d",
   "metadata": {
    "tags": []
   },
   "outputs": [],
   "source": [
    "text = \"வணக்கம்!\""
   ]
  },
  {
   "cell_type": "code",
   "execution_count": 5,
   "id": "d1b97078-09f9-4417-90af-0d44746045ad",
   "metadata": {
    "tags": []
   },
   "outputs": [],
   "source": [
    "encoded_text = text.encode('utf-8')"
   ]
  },
  {
   "cell_type": "code",
   "execution_count": 6,
   "id": "7b8ba451-a11a-4b7a-9b7b-4d99cee6032f",
   "metadata": {
    "tags": []
   },
   "outputs": [
    {
     "name": "stdout",
     "output_type": "stream",
     "text": [
      "b'\\xe0\\xae\\xb5\\xe0\\xae\\xa3\\xe0\\xae\\x95\\xe0\\xaf\\x8d\\xe0\\xae\\x95\\xe0\\xae\\xae\\xe0\\xaf\\x8d!'\n"
     ]
    }
   ],
   "source": [
    "print(encoded_text)"
   ]
  },
  {
   "cell_type": "code",
   "execution_count": 8,
   "id": "7e2d95a3-e937-4954-9c02-a8efc9ad76fa",
   "metadata": {
    "tags": []
   },
   "outputs": [],
   "source": [
    "decoded_text = encoded_text.decode()"
   ]
  },
  {
   "cell_type": "code",
   "execution_count": 9,
   "id": "ab282be9-d28f-4887-83b9-03cb0e67e7fa",
   "metadata": {
    "tags": []
   },
   "outputs": [
    {
     "name": "stdout",
     "output_type": "stream",
     "text": [
      "வணக்கம்!\n"
     ]
    }
   ],
   "source": [
    "print(decoded_text)"
   ]
  },
  {
   "cell_type": "code",
   "execution_count": 10,
   "id": "44d41935-843a-4f81-9755-7fb65c7e1c13",
   "metadata": {
    "tags": []
   },
   "outputs": [],
   "source": [
    "with open(\"file.txt\",'w',encoding='utf-8') as file:\n",
    "    file.write(\"வணக்கம்\")"
   ]
  },
  {
   "cell_type": "code",
   "execution_count": 11,
   "id": "9987a259-4b36-49eb-9300-bbbf80fc5cdb",
   "metadata": {
    "tags": []
   },
   "outputs": [
    {
     "name": "stdout",
     "output_type": "stream",
     "text": [
      "வணக்கம்\n"
     ]
    }
   ],
   "source": [
    "with open(\"file.txt\",\"r\") as file:\n",
    "    content = file.read()\n",
    "    print(content)"
   ]
  },
  {
   "cell_type": "code",
   "execution_count": null,
   "id": "1d45838d-85b2-4b99-96f5-480f1acfed55",
   "metadata": {},
   "outputs": [],
   "source": []
  }
 ],
 "metadata": {
  "kernelspec": {
   "display_name": "Python 3 (ipykernel)",
   "language": "python",
   "name": "python3"
  },
  "language_info": {
   "codemirror_mode": {
    "name": "ipython",
    "version": 3
   },
   "file_extension": ".py",
   "mimetype": "text/x-python",
   "name": "python",
   "nbconvert_exporter": "python",
   "pygments_lexer": "ipython3",
   "version": "3.10.6"
  }
 },
 "nbformat": 4,
 "nbformat_minor": 5
}
