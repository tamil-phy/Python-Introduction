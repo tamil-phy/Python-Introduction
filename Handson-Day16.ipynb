{
 "cells": [
  {
   "cell_type": "markdown",
   "id": "49b0898a",
   "metadata": {},
   "source": [
    "# Classes"
   ]
  },
  {
   "cell_type": "code",
   "execution_count": 16,
   "id": "364582d9",
   "metadata": {},
   "outputs": [],
   "source": [
    "class Myclass:\n",
    "    def __init__(self, name, age, occupation): # Constructor Method --> __init__()\n",
    "        self.name =  name\n",
    "        self.age = age\n",
    "        self.occupation = occupation     \n",
    "    def greet(self):\n",
    "        print(f\"Hello, My name is {self.name} and I am {self.age} years old. I work as {self.occupation} in AI Lab\")\n",
    "    "
   ]
  },
  {
   "cell_type": "code",
   "execution_count": 11,
   "id": "51bb47c6",
   "metadata": {},
   "outputs": [],
   "source": [
    "person = Myclass(\"Tamil Arasan\", 33, \"Research Scientist\")"
   ]
  },
  {
   "cell_type": "code",
   "execution_count": 12,
   "id": "042df260",
   "metadata": {},
   "outputs": [
    {
     "name": "stdout",
     "output_type": "stream",
     "text": [
      "Hello, My name is Tamil Arasan and I am 33 years old. I work as Research Scientist in AI Lab\n"
     ]
    }
   ],
   "source": [
    "person.greet()"
   ]
  },
  {
   "cell_type": "code",
   "execution_count": 18,
   "id": "c30f78dc",
   "metadata": {},
   "outputs": [],
   "source": [
    "person_1 = Myclass(\"Madhan\", 17, \"Student\")"
   ]
  },
  {
   "cell_type": "code",
   "execution_count": 19,
   "id": "76522d4c",
   "metadata": {},
   "outputs": [
    {
     "name": "stdout",
     "output_type": "stream",
     "text": [
      "Hello, My name is Madhan and I am 17 years old. I work as Student in AI Lab\n"
     ]
    }
   ],
   "source": [
    "person_1.greet()"
   ]
  },
  {
   "cell_type": "code",
   "execution_count": 20,
   "id": "117661b5",
   "metadata": {},
   "outputs": [],
   "source": [
    "person_3 = Myclass(\"Jegan\", 17, \"Student\")"
   ]
  },
  {
   "cell_type": "code",
   "execution_count": 21,
   "id": "c2b66bab",
   "metadata": {},
   "outputs": [
    {
     "name": "stdout",
     "output_type": "stream",
     "text": [
      "Hello, My name is Jegan and I am 17 years old. I work as Student in AI Lab\n"
     ]
    }
   ],
   "source": [
    "person_3.greet()"
   ]
  },
  {
   "cell_type": "code",
   "execution_count": null,
   "id": "35ca5a55",
   "metadata": {},
   "outputs": [],
   "source": []
  }
 ],
 "metadata": {
  "kernelspec": {
   "display_name": "Python 3 (ipykernel)",
   "language": "python",
   "name": "python3"
  },
  "language_info": {
   "codemirror_mode": {
    "name": "ipython",
    "version": 3
   },
   "file_extension": ".py",
   "mimetype": "text/x-python",
   "name": "python",
   "nbconvert_exporter": "python",
   "pygments_lexer": "ipython3",
   "version": "3.10.6"
  }
 },
 "nbformat": 4,
 "nbformat_minor": 5
}
