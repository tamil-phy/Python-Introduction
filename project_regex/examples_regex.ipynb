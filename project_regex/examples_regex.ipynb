{
 "cells": [
  {
   "cell_type": "code",
   "execution_count": 1,
   "id": "d7f3e4c4-b594-4c92-a719-cf162bc69cef",
   "metadata": {
    "tags": []
   },
   "outputs": [],
   "source": [
    "import re"
   ]
  },
  {
   "cell_type": "code",
   "execution_count": 2,
   "id": "5c36c03b-b566-4248-919e-28aa8d9fe74f",
   "metadata": {
    "tags": []
   },
   "outputs": [],
   "source": [
    "indian_ph_pattern = r\"^(?:\\+91|0)?(?:\\d{10}|\\d{2}-\\d{3}-\\d{4}|\\d{4}-\\d{6})$\"  #?\n"
   ]
  },
  {
   "cell_type": "code",
   "execution_count": 3,
   "id": "6ec19a59-39d3-40fa-a726-0de44dd8246c",
   "metadata": {
    "tags": []
   },
   "outputs": [],
   "source": [
    "phone_numbers = [\"+91 1234567890\",\n",
    "    \"0911234567890\",\n",
    "    \"91234567890\",\n",
    "    \"+91-1234567890\",\n",
    "    \"091-1234567890\",\n",
    "    \"9123-456-7890\",\n",
    "    \"1234-567890\",\n",
    "    \"+911234567890\",\n",
    "    \"01234-567890\"]"
   ]
  },
  {
   "cell_type": "code",
   "execution_count": 4,
   "id": "2c02d58c-097b-400d-985e-f32365ec009f",
   "metadata": {
    "tags": []
   },
   "outputs": [
    {
     "name": "stdout",
     "output_type": "stream",
     "text": [
      "Invalid Indian Phone Number: +91 1234567890\n",
      "Invalid Indian Phone Number: 0911234567890\n",
      "Invalid Indian Phone Number: 91234567890\n",
      "Invalid Indian Phone Number: +91-1234567890\n",
      "Invalid Indian Phone Number: 091-1234567890\n",
      "Invalid Indian Phone Number: 9123-456-7890\n",
      "Valid Indian Phone Number: 1234-567890\n",
      "Valid Indian Phone Number: +911234567890\n",
      "Valid Indian Phone Number: 01234-567890\n"
     ]
    }
   ],
   "source": [
    "for phone_number in phone_numbers:\n",
    "    if re.match(indian_ph_pattern,phone_number):\n",
    "        print(\"Valid Indian Phone Number:\", phone_number)\n",
    "    else:\n",
    "        print(\"Invalid Indian Phone Number:\", phone_number)"
   ]
  },
  {
   "cell_type": "code",
   "execution_count": 5,
   "id": "f2dd09ae-17ce-4066-9e3a-74ae85b0b61c",
   "metadata": {
    "tags": []
   },
   "outputs": [],
   "source": [
    "# Sentence split\n",
    "text = \"This is the first sentence. And this is the second sentence! Finally, the third sentence.\""
   ]
  },
  {
   "cell_type": "code",
   "execution_count": 6,
   "id": "e011124b-fcfc-4c6e-a2d3-c9fe5d8c3a60",
   "metadata": {
    "tags": []
   },
   "outputs": [],
   "source": [
    "sentences = re.split(r\"(?<!\\w\\.\\w.)(?<![A-Z][a-z]\\.)(?<=\\.|\\?|\\!)\\s\",text)"
   ]
  },
  {
   "cell_type": "code",
   "execution_count": 7,
   "id": "2d029726-f24c-40b2-be72-4dc4f948979e",
   "metadata": {
    "tags": []
   },
   "outputs": [
    {
     "name": "stdout",
     "output_type": "stream",
     "text": [
      "This is the first sentence.\n",
      "And this is the second sentence!\n",
      "Finally, the third sentence.\n"
     ]
    }
   ],
   "source": [
    "for sentence in sentences:\n",
    "    print(sentence)"
   ]
  },
  {
   "cell_type": "code",
   "execution_count": null,
   "id": "f5918b45-5dbd-4607-bf86-1c263ad39ca8",
   "metadata": {},
   "outputs": [],
   "source": []
  }
 ],
 "metadata": {
  "kernelspec": {
   "display_name": "Python 3 (ipykernel)",
   "language": "python",
   "name": "python3"
  },
  "language_info": {
   "codemirror_mode": {
    "name": "ipython",
    "version": 3
   },
   "file_extension": ".py",
   "mimetype": "text/x-python",
   "name": "python",
   "nbconvert_exporter": "python",
   "pygments_lexer": "ipython3",
   "version": "3.10.6"
  }
 },
 "nbformat": 4,
 "nbformat_minor": 5
}
