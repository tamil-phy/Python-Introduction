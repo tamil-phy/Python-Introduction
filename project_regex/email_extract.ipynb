{
 "cells": [
  {
   "cell_type": "code",
   "execution_count": 1,
   "id": "72713863-587d-43fd-93e4-8e9d55e442a8",
   "metadata": {
    "tags": []
   },
   "outputs": [],
   "source": [
    "#Import regex module\n",
    "import re"
   ]
  },
  {
   "cell_type": "code",
   "execution_count": null,
   "id": "4a88abef-3b21-4ac1-8ef8-b6d266df0f30",
   "metadata": {},
   "outputs": [],
   "source": [
    "#tamilarasanbakthavatchalam@gmail.com , .co.uk"
   ]
  },
  {
   "cell_type": "code",
   "execution_count": 37,
   "id": "67e6434f-04f3-41cd-b6f7-d43601f783e9",
   "metadata": {
    "tags": []
   },
   "outputs": [],
   "source": [
    "email_pattern = r'\\b[A-Za-z0-9._%+-]+@[A-Za-z0-9._%+-]+\\.[A-Za-z]{2,}\\b'"
   ]
  },
  {
   "cell_type": "code",
   "execution_count": 38,
   "id": "b5b7eed4-7d99-4382-806a-8b738d568aa4",
   "metadata": {
    "tags": []
   },
   "outputs": [],
   "source": [
    "text_document = '''\n",
    "Hello, here are some email addresses:\n",
    "john@example.com\n",
    "jane.doe@example.com\n",
    "info@example.com\n",
    "contact@domain.co.org\n",
    "'''"
   ]
  },
  {
   "cell_type": "code",
   "execution_count": 39,
   "id": "c9431e67-1c9d-46d0-99d5-1826eb9bb87e",
   "metadata": {
    "tags": []
   },
   "outputs": [],
   "source": [
    "email_add = re.findall(email_pattern,text_document)"
   ]
  },
  {
   "cell_type": "code",
   "execution_count": 40,
   "id": "9d749fbd-f9f6-4c53-a7af-bbe7fa9eaa53",
   "metadata": {
    "tags": []
   },
   "outputs": [
    {
     "name": "stdout",
     "output_type": "stream",
     "text": [
      "john@example.com\n",
      "jane.doe@example.com\n",
      "info@example.com\n",
      "contact@domain.co.org\n"
     ]
    }
   ],
   "source": [
    "for email in email_add:\n",
    "    print(email)"
   ]
  },
  {
   "cell_type": "code",
   "execution_count": null,
   "id": "607358ff-f7e9-47c9-840e-35e83905b979",
   "metadata": {},
   "outputs": [],
   "source": []
  }
 ],
 "metadata": {
  "kernelspec": {
   "display_name": "Python 3 (ipykernel)",
   "language": "python",
   "name": "python3"
  },
  "language_info": {
   "codemirror_mode": {
    "name": "ipython",
    "version": 3
   },
   "file_extension": ".py",
   "mimetype": "text/x-python",
   "name": "python",
   "nbconvert_exporter": "python",
   "pygments_lexer": "ipython3",
   "version": "3.10.6"
  }
 },
 "nbformat": 4,
 "nbformat_minor": 5
}
