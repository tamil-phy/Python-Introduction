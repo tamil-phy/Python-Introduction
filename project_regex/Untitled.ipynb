{
 "cells": [
  {
   "cell_type": "code",
   "execution_count": 1,
   "id": "241706c3-deae-4557-8563-76c5b048af87",
   "metadata": {
    "tags": []
   },
   "outputs": [],
   "source": [
    "import random\n",
    "\n",
    "# Define log entry templates\n",
    "log_templates = [\n",
    "    \"[{timestamp}] ERROR: Connection timeout\",\n",
    "    \"[{timestamp}] ERROR: File not found\",\n",
    "    \"[{timestamp}] INFO: Application started\",\n",
    "    \"[{timestamp}] ERROR: Database connection failed\",\n",
    "    \"[{timestamp}] ERROR: Invalid input received\",\n",
    "    \"[{timestamp}] INFO: Request received\",\n",
    "    \"[{timestamp}] INFO: Request processed successfully\",\n",
    "    \"[{timestamp}] ERROR: Out of memory\"\n",
    "]\n",
    "\n",
    "# Define the number of log entries to generate\n",
    "num_entries = 100\n",
    "\n",
    "# Generate and save log data\n",
    "with open(\"sample_log.txt\", \"w\") as file:\n",
    "    for _ in range(num_entries):\n",
    "        log_template = random.choice(log_templates)\n",
    "        timestamp = f\"2023-05-{random.randint(1, 31):02d} {random.randint(0, 23):02d}:{random.randint(0, 59):02d}:{random.randint(0, 59):02d}\"\n",
    "        log_entry = log_template.format(timestamp=timestamp)\n",
    "        file.write(log_entry + \"\\n\")\n"
   ]
  },
  {
   "cell_type": "code",
   "execution_count": 3,
   "id": "e0acf492-601b-4d7f-a5db-299f084923f7",
   "metadata": {
    "tags": []
   },
   "outputs": [
    {
     "name": "stdout",
     "output_type": "stream",
     "text": [
      "Log File Analysis\n",
      "-----------------\n",
      "Total Errors: 58\n",
      "Unique Errors: 5\n",
      "Timestamps: ['2023-05-04 20:51:10', '2023-05-08 11:53:55', '2023-05-07 16:27:24', '2023-05-10 03:42:10', '2023-05-23 10:41:32', '2023-05-01 01:38:04', '2023-05-27 18:31:30', '2023-05-04 23:41:16', '2023-05-08 10:37:48', '2023-05-06 19:57:15', '2023-05-12 11:23:59', '2023-05-11 20:49:36', '2023-05-16 18:19:18', '2023-05-13 17:54:22', '2023-05-02 09:14:45', '2023-05-03 13:26:19', '2023-05-19 04:40:20', '2023-05-25 16:13:18', '2023-05-28 08:13:03', '2023-05-14 17:19:46', '2023-05-11 15:03:44', '2023-05-26 10:04:08', '2023-05-18 11:14:14', '2023-05-01 22:18:03', '2023-05-03 01:56:37', '2023-05-31 19:54:50', '2023-05-03 03:27:09', '2023-05-31 02:33:48', '2023-05-20 05:46:28', '2023-05-13 12:38:51', '2023-05-17 07:15:16', '2023-05-22 03:20:38', '2023-05-23 03:35:25', '2023-05-22 08:53:43', '2023-05-13 04:10:34', '2023-05-21 02:24:55', '2023-05-29 11:34:52', '2023-05-03 05:43:26', '2023-05-21 03:09:49', '2023-05-22 23:46:43', '2023-05-01 09:55:13', '2023-05-03 12:11:44', '2023-05-01 01:23:36', '2023-05-09 09:02:09', '2023-05-05 18:47:17', '2023-05-17 03:29:19', '2023-05-03 13:51:16', '2023-05-22 21:43:21', '2023-05-21 16:35:25', '2023-05-02 09:51:11', '2023-05-15 05:07:12', '2023-05-26 06:16:48', '2023-05-31 09:34:09', '2023-05-27 11:09:15', '2023-05-19 19:15:04', '2023-05-13 06:47:34', '2023-05-15 23:27:08', '2023-05-02 15:49:36', '2023-05-11 06:04:00', '2023-05-21 04:57:14', '2023-05-09 13:46:24', '2023-05-25 15:59:51', '2023-05-20 11:52:37', '2023-05-22 20:52:47', '2023-05-08 17:17:27', '2023-05-14 21:29:06', '2023-05-02 04:50:10', '2023-05-25 19:56:58', '2023-05-24 13:40:24', '2023-05-08 03:36:29', '2023-05-18 17:44:20', '2023-05-25 12:24:45', '2023-05-15 20:37:12', '2023-05-19 22:03:57', '2023-05-09 23:29:05', '2023-05-16 07:40:14', '2023-05-12 21:48:48', '2023-05-31 16:03:22', '2023-05-03 01:02:35', '2023-05-29 20:26:11', '2023-05-30 09:45:33', '2023-05-10 01:27:41', '2023-05-22 20:50:11', '2023-05-03 13:39:21', '2023-05-09 21:00:35', '2023-05-10 18:32:28', '2023-05-14 08:28:14', '2023-05-27 12:56:00', '2023-05-31 20:06:45', '2023-05-06 22:08:12', '2023-05-04 11:45:07', '2023-05-19 23:32:12', '2023-05-05 22:05:57', '2023-05-24 23:34:51', '2023-05-27 21:38:48', '2023-05-30 17:11:32', '2023-05-28 14:15:43', '2023-05-16 17:39:42', '2023-05-24 14:34:31', '2023-05-19 07:04:50']\n"
     ]
    }
   ],
   "source": [
    "import re\n",
    "\n",
    "# Define the log file path\n",
    "log_file_path = \"sample_log.txt\"\n",
    "\n",
    "# Define the regex patterns\n",
    "timestamp_pattern = r\"\\[(.*?)\\]\"\n",
    "error_pattern = r\"ERROR: (.*?)\\n\"\n",
    "\n",
    "# Initialize counters\n",
    "total_errors = 0\n",
    "unique_errors = set()\n",
    "\n",
    "# Read and analyze the log file\n",
    "with open(log_file_path, \"r\") as file:\n",
    "    log_data = file.read()\n",
    "\n",
    "    # Extract timestamps\n",
    "    timestamps = re.findall(timestamp_pattern, log_data)\n",
    "\n",
    "    # Extract errors\n",
    "    errors = re.findall(error_pattern, log_data)\n",
    "\n",
    "    # Count total errors\n",
    "    total_errors = len(errors)\n",
    "\n",
    "    # Find unique errors\n",
    "    unique_errors = set(errors)\n",
    "\n",
    "# Print the analysis results\n",
    "print(\"Log File Analysis\")\n",
    "print(\"-----------------\")\n",
    "print(\"Total Errors:\", total_errors)\n",
    "print(\"Unique Errors:\", len(unique_errors))\n",
    "print(\"Timestamps:\", timestamps)\n"
   ]
  },
  {
   "cell_type": "code",
   "execution_count": 4,
   "id": "bf67e7ce-391c-483a-84dc-2d2a4ad839dd",
   "metadata": {
    "tags": []
   },
   "outputs": [
    {
     "name": "stdout",
     "output_type": "stream",
     "text": [
      "john@example.com\n",
      "jane.doe@example.com\n",
      "info@example.com\n",
      "contact@domain.com\n"
     ]
    }
   ],
   "source": [
    "import re\n",
    "\n",
    "# Define the text document containing email addresses\n",
    "text_document = '''\n",
    "Hello, here are some email addresses:\n",
    "john@example.com\n",
    "jane.doe@example.com\n",
    "info@example.com\n",
    "contact@domain.com\n",
    "'''\n",
    "\n",
    "# Define the regex pattern to match email addresses\n",
    "email_pattern = r'\\b[A-Za-z0-9._%+-]+@[A-Za-z0-9.-]+\\.[A-Za-z]{2,}\\b'\n",
    "\n",
    "# Find and extract email addresses using regex\n",
    "email_addresses = re.findall(email_pattern, text_document)\n",
    "\n",
    "# Print the extracted email addresses\n",
    "for email in email_addresses:\n",
    "    print(email)\n"
   ]
  },
  {
   "cell_type": "code",
   "execution_count": null,
   "id": "b688128e-2a25-41cd-a0ab-2eec2e6fa35d",
   "metadata": {},
   "outputs": [],
   "source": [
    "text_document = '''\n",
    "Hello, here are some email addresses:\n",
    "john@example.com\n",
    "jane.doe@example.com\n",
    "info@example.com\n",
    "contact@domain.com\n",
    "'''"
   ]
  }
 ],
 "metadata": {
  "kernelspec": {
   "display_name": "Python 3 (ipykernel)",
   "language": "python",
   "name": "python3"
  },
  "language_info": {
   "codemirror_mode": {
    "name": "ipython",
    "version": 3
   },
   "file_extension": ".py",
   "mimetype": "text/x-python",
   "name": "python",
   "nbconvert_exporter": "python",
   "pygments_lexer": "ipython3",
   "version": "3.10.6"
  }
 },
 "nbformat": 4,
 "nbformat_minor": 5
}
