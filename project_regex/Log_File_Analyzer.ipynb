{
 "cells": [
  {
   "cell_type": "code",
   "execution_count": 1,
   "id": "d8297465-966b-4a36-992b-0b3f0897e3c6",
   "metadata": {
    "tags": []
   },
   "outputs": [],
   "source": [
    "import re"
   ]
  },
  {
   "cell_type": "code",
   "execution_count": 2,
   "id": "c52d137a-5957-45ad-8671-1f0cda49d484",
   "metadata": {
    "tags": []
   },
   "outputs": [],
   "source": [
    "log_file_path = 'sample_log.txt'"
   ]
  },
  {
   "cell_type": "code",
   "execution_count": 3,
   "id": "60f75771-94e7-434a-a2af-87404c608681",
   "metadata": {
    "tags": []
   },
   "outputs": [],
   "source": [
    "timestamp_pattern = r'\\[(.*?)\\]'"
   ]
  },
  {
   "cell_type": "code",
   "execution_count": 4,
   "id": "bb4e47fe-4d10-4aa4-bfd6-0df24f8637a5",
   "metadata": {
    "tags": []
   },
   "outputs": [],
   "source": [
    "#ERROR: Database connection failed\n",
    "error_pattern = r'ERROR: (.*?)\\n'"
   ]
  },
  {
   "cell_type": "code",
   "execution_count": 9,
   "id": "1c8d035e-30c1-4b10-bb28-9d409fd19c36",
   "metadata": {
    "tags": []
   },
   "outputs": [],
   "source": [
    "total_errors = 0\n",
    "unique_errors = set()"
   ]
  },
  {
   "cell_type": "code",
   "execution_count": 10,
   "id": "4a9d8719-349d-447e-bfa9-2cf8177874ca",
   "metadata": {
    "tags": []
   },
   "outputs": [],
   "source": [
    "with open(log_file_path,\"r\") as file:\n",
    "    log_data = file.read()"
   ]
  },
  {
   "cell_type": "code",
   "execution_count": 11,
   "id": "8f2ec5f1-6ec7-4f6f-b936-fd42c8033a8b",
   "metadata": {
    "tags": []
   },
   "outputs": [],
   "source": [
    "timestamps = re.findall(timestamp_pattern,log_data)"
   ]
  },
  {
   "cell_type": "code",
   "execution_count": 13,
   "id": "aa4be000-fbc9-44bc-9e94-353931295406",
   "metadata": {
    "tags": []
   },
   "outputs": [],
   "source": [
    "errors = re.findall(error_pattern,log_data)"
   ]
  },
  {
   "cell_type": "code",
   "execution_count": 14,
   "id": "d9e08f2c-f039-4fc0-8e65-0187152e2779",
   "metadata": {
    "tags": []
   },
   "outputs": [],
   "source": [
    "total_errors = len(errors)"
   ]
  },
  {
   "cell_type": "code",
   "execution_count": 15,
   "id": "2fe0b29e-bbad-4644-9da9-ede195d1c655",
   "metadata": {
    "tags": []
   },
   "outputs": [],
   "source": [
    "unique_errors = set(errors)"
   ]
  },
  {
   "cell_type": "code",
   "execution_count": 16,
   "id": "42b0b187-d73e-48de-ade8-3d0cafc705e6",
   "metadata": {
    "tags": []
   },
   "outputs": [
    {
     "name": "stdout",
     "output_type": "stream",
     "text": [
      "Log File Analysis\n",
      "-----------------\n",
      "Total Errors: 58\n",
      "Unique Errors: 5\n"
     ]
    }
   ],
   "source": [
    "print(\"Log File Analysis\")\n",
    "print(\"-----------------\")\n",
    "print(\"Total Errors:\", total_errors)\n",
    "print(\"Unique Errors:\", len(unique_errors))\n"
   ]
  },
  {
   "cell_type": "code",
   "execution_count": 17,
   "id": "619d4109-03fc-448d-af6b-83509f25844b",
   "metadata": {
    "tags": []
   },
   "outputs": [
    {
     "name": "stdout",
     "output_type": "stream",
     "text": [
      "Timestamps: ['2023-05-04 20:51:10', '2023-05-08 11:53:55', '2023-05-07 16:27:24', '2023-05-10 03:42:10', '2023-05-23 10:41:32', '2023-05-01 01:38:04', '2023-05-27 18:31:30', '2023-05-04 23:41:16', '2023-05-08 10:37:48', '2023-05-06 19:57:15', '2023-05-12 11:23:59', '2023-05-11 20:49:36', '2023-05-16 18:19:18', '2023-05-13 17:54:22', '2023-05-02 09:14:45', '2023-05-03 13:26:19', '2023-05-19 04:40:20', '2023-05-25 16:13:18', '2023-05-28 08:13:03', '2023-05-14 17:19:46', '2023-05-11 15:03:44', '2023-05-26 10:04:08', '2023-05-18 11:14:14', '2023-05-01 22:18:03', '2023-05-03 01:56:37', '2023-05-31 19:54:50', '2023-05-03 03:27:09', '2023-05-31 02:33:48', '2023-05-20 05:46:28', '2023-05-13 12:38:51', '2023-05-17 07:15:16', '2023-05-22 03:20:38', '2023-05-23 03:35:25', '2023-05-22 08:53:43', '2023-05-13 04:10:34', '2023-05-21 02:24:55', '2023-05-29 11:34:52', '2023-05-03 05:43:26', '2023-05-21 03:09:49', '2023-05-22 23:46:43', '2023-05-01 09:55:13', '2023-05-03 12:11:44', '2023-05-01 01:23:36', '2023-05-09 09:02:09', '2023-05-05 18:47:17', '2023-05-17 03:29:19', '2023-05-03 13:51:16', '2023-05-22 21:43:21', '2023-05-21 16:35:25', '2023-05-02 09:51:11', '2023-05-15 05:07:12', '2023-05-26 06:16:48', '2023-05-31 09:34:09', '2023-05-27 11:09:15', '2023-05-19 19:15:04', '2023-05-13 06:47:34', '2023-05-15 23:27:08', '2023-05-02 15:49:36', '2023-05-11 06:04:00', '2023-05-21 04:57:14', '2023-05-09 13:46:24', '2023-05-25 15:59:51', '2023-05-20 11:52:37', '2023-05-22 20:52:47', '2023-05-08 17:17:27', '2023-05-14 21:29:06', '2023-05-02 04:50:10', '2023-05-25 19:56:58', '2023-05-24 13:40:24', '2023-05-08 03:36:29', '2023-05-18 17:44:20', '2023-05-25 12:24:45', '2023-05-15 20:37:12', '2023-05-19 22:03:57', '2023-05-09 23:29:05', '2023-05-16 07:40:14', '2023-05-12 21:48:48', '2023-05-31 16:03:22', '2023-05-03 01:02:35', '2023-05-29 20:26:11', '2023-05-30 09:45:33', '2023-05-10 01:27:41', '2023-05-22 20:50:11', '2023-05-03 13:39:21', '2023-05-09 21:00:35', '2023-05-10 18:32:28', '2023-05-14 08:28:14', '2023-05-27 12:56:00', '2023-05-31 20:06:45', '2023-05-06 22:08:12', '2023-05-04 11:45:07', '2023-05-19 23:32:12', '2023-05-05 22:05:57', '2023-05-24 23:34:51', '2023-05-27 21:38:48', '2023-05-30 17:11:32', '2023-05-28 14:15:43', '2023-05-16 17:39:42', '2023-05-24 14:34:31', '2023-05-19 07:04:50']\n"
     ]
    }
   ],
   "source": [
    "print(\"Timestamps:\", timestamps)"
   ]
  },
  {
   "cell_type": "code",
   "execution_count": null,
   "id": "e44cbe54-71f9-41a7-a00b-fbf7776f2ed5",
   "metadata": {},
   "outputs": [],
   "source": []
  }
 ],
 "metadata": {
  "kernelspec": {
   "display_name": "Python 3 (ipykernel)",
   "language": "python",
   "name": "python3"
  },
  "language_info": {
   "codemirror_mode": {
    "name": "ipython",
    "version": 3
   },
   "file_extension": ".py",
   "mimetype": "text/x-python",
   "name": "python",
   "nbconvert_exporter": "python",
   "pygments_lexer": "ipython3",
   "version": "3.10.6"
  }
 },
 "nbformat": 4,
 "nbformat_minor": 5
}
