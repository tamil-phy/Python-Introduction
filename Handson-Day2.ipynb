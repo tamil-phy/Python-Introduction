{
 "cells": [
  {
   "cell_type": "code",
   "execution_count": 1,
   "id": "54cd2715",
   "metadata": {},
   "outputs": [],
   "source": [
    "example_1 = \"123\""
   ]
  },
  {
   "cell_type": "code",
   "execution_count": 2,
   "id": "930a0d37",
   "metadata": {},
   "outputs": [],
   "source": [
    "example_2 = 123"
   ]
  },
  {
   "cell_type": "code",
   "execution_count": 3,
   "id": "2bb95db5",
   "metadata": {},
   "outputs": [],
   "source": [
    "example_3 = 12.3"
   ]
  },
  {
   "cell_type": "code",
   "execution_count": 4,
   "id": "ea4cc4d2",
   "metadata": {},
   "outputs": [
    {
     "data": {
      "text/plain": [
       "str"
      ]
     },
     "execution_count": 4,
     "metadata": {},
     "output_type": "execute_result"
    }
   ],
   "source": [
    "type(example_1)"
   ]
  },
  {
   "cell_type": "code",
   "execution_count": 5,
   "id": "3fe8fb24",
   "metadata": {},
   "outputs": [
    {
     "data": {
      "text/plain": [
       "int"
      ]
     },
     "execution_count": 5,
     "metadata": {},
     "output_type": "execute_result"
    }
   ],
   "source": [
    "type(example_2)"
   ]
  },
  {
   "cell_type": "code",
   "execution_count": 6,
   "id": "5d39d802",
   "metadata": {},
   "outputs": [
    {
     "data": {
      "text/plain": [
       "float"
      ]
     },
     "execution_count": 6,
     "metadata": {},
     "output_type": "execute_result"
    }
   ],
   "source": [
    "type(example_3)"
   ]
  },
  {
   "cell_type": "code",
   "execution_count": 7,
   "id": "cf5748e3",
   "metadata": {},
   "outputs": [],
   "source": [
    "example_4 = -123"
   ]
  },
  {
   "cell_type": "code",
   "execution_count": 8,
   "id": "e0c16063",
   "metadata": {},
   "outputs": [
    {
     "data": {
      "text/plain": [
       "int"
      ]
     },
     "execution_count": 8,
     "metadata": {},
     "output_type": "execute_result"
    }
   ],
   "source": [
    "type(example_4)"
   ]
  },
  {
   "cell_type": "code",
   "execution_count": 9,
   "id": "b8aa8b39",
   "metadata": {},
   "outputs": [],
   "source": [
    "example_5 = -12.3"
   ]
  },
  {
   "cell_type": "code",
   "execution_count": 10,
   "id": "6bbaff50",
   "metadata": {},
   "outputs": [
    {
     "data": {
      "text/plain": [
       "float"
      ]
     },
     "execution_count": 10,
     "metadata": {},
     "output_type": "execute_result"
    }
   ],
   "source": [
    "type(example_5)"
   ]
  },
  {
   "cell_type": "markdown",
   "id": "b81d51a3",
   "metadata": {},
   "source": [
    "# Boolean - It's a logical data type"
   ]
  },
  {
   "cell_type": "code",
   "execution_count": 11,
   "id": "01e1779e",
   "metadata": {},
   "outputs": [
    {
     "data": {
      "text/plain": [
       "False"
      ]
     },
     "execution_count": 11,
     "metadata": {},
     "output_type": "execute_result"
    }
   ],
   "source": [
    "9 > 10"
   ]
  },
  {
   "cell_type": "code",
   "execution_count": 12,
   "id": "a711a350",
   "metadata": {},
   "outputs": [
    {
     "data": {
      "text/plain": [
       "True"
      ]
     },
     "execution_count": 12,
     "metadata": {},
     "output_type": "execute_result"
    }
   ],
   "source": [
    "10 == 10.0"
   ]
  },
  {
   "cell_type": "code",
   "execution_count": 13,
   "id": "7efae9b4",
   "metadata": {},
   "outputs": [
    {
     "data": {
      "text/plain": [
       "False"
      ]
     },
     "execution_count": 13,
     "metadata": {},
     "output_type": "execute_result"
    }
   ],
   "source": [
    "10 == 10.01"
   ]
  },
  {
   "cell_type": "code",
   "execution_count": 14,
   "id": "3a2b8902",
   "metadata": {},
   "outputs": [
    {
     "name": "stdout",
     "output_type": "stream",
     "text": [
      "True\n"
     ]
    }
   ],
   "source": [
    "print(bool(13))"
   ]
  },
  {
   "cell_type": "code",
   "execution_count": 15,
   "id": "703b49f0",
   "metadata": {},
   "outputs": [
    {
     "name": "stdout",
     "output_type": "stream",
     "text": [
      "False\n"
     ]
    }
   ],
   "source": [
    "print(bool(0))"
   ]
  },
  {
   "cell_type": "code",
   "execution_count": 17,
   "id": "aae21663",
   "metadata": {},
   "outputs": [
    {
     "name": "stdout",
     "output_type": "stream",
     "text": [
      "True\n"
     ]
    }
   ],
   "source": [
    "print(bool(\"Madhan\"))"
   ]
  },
  {
   "cell_type": "code",
   "execution_count": 18,
   "id": "e8cff3fd",
   "metadata": {},
   "outputs": [
    {
     "name": "stdout",
     "output_type": "stream",
     "text": [
      "False\n"
     ]
    }
   ],
   "source": [
    "print(bool(None))"
   ]
  },
  {
   "cell_type": "code",
   "execution_count": 19,
   "id": "f0b4d3a3",
   "metadata": {},
   "outputs": [
    {
     "name": "stdout",
     "output_type": "stream",
     "text": [
      "True\n"
     ]
    }
   ],
   "source": [
    "print(bool(\"None\"))"
   ]
  },
  {
   "cell_type": "code",
   "execution_count": 20,
   "id": "ea837499",
   "metadata": {},
   "outputs": [
    {
     "data": {
      "text/plain": [
       "True"
      ]
     },
     "execution_count": 20,
     "metadata": {},
     "output_type": "execute_result"
    }
   ],
   "source": [
    "bool(\" \")"
   ]
  },
  {
   "cell_type": "code",
   "execution_count": 21,
   "id": "c2c0ee63",
   "metadata": {},
   "outputs": [
    {
     "data": {
      "text/plain": [
       "False"
      ]
     },
     "execution_count": 21,
     "metadata": {},
     "output_type": "execute_result"
    }
   ],
   "source": [
    "bool(\"\")"
   ]
  },
  {
   "cell_type": "code",
   "execution_count": 23,
   "id": "9a846284",
   "metadata": {},
   "outputs": [
    {
     "name": "stdout",
     "output_type": "stream",
     "text": [
      "True\n"
     ]
    }
   ],
   "source": [
    "print(bool(Madhan))"
   ]
  },
  {
   "cell_type": "code",
   "execution_count": 24,
   "id": "c63e3be2",
   "metadata": {},
   "outputs": [
    {
     "name": "stdout",
     "output_type": "stream",
     "text": [
      "Tamil\n",
      "34\n",
      "34\n"
     ]
    }
   ],
   "source": [
    "name = input()\n",
    "age = input()\n",
    "percentage = input()\n",
    "\n"
   ]
  },
  {
   "cell_type": "code",
   "execution_count": 25,
   "id": "387af279",
   "metadata": {},
   "outputs": [],
   "source": [
    "education = [ \"High School\", \"UG\" ]"
   ]
  },
  {
   "cell_type": "code",
   "execution_count": 26,
   "id": "d419d404",
   "metadata": {},
   "outputs": [
    {
     "data": {
      "text/plain": [
       "'UG'"
      ]
     },
     "execution_count": 26,
     "metadata": {},
     "output_type": "execute_result"
    }
   ],
   "source": [
    "education[1]"
   ]
  },
  {
   "cell_type": "code",
   "execution_count": 27,
   "id": "3818602a",
   "metadata": {},
   "outputs": [
    {
     "data": {
      "text/plain": [
       "'High School'"
      ]
     },
     "execution_count": 27,
     "metadata": {},
     "output_type": "execute_result"
    }
   ],
   "source": [
    "education[0]"
   ]
  },
  {
   "cell_type": "code",
   "execution_count": 28,
   "id": "39b31423",
   "metadata": {},
   "outputs": [
    {
     "data": {
      "text/plain": [
       "2"
      ]
     },
     "execution_count": 28,
     "metadata": {},
     "output_type": "execute_result"
    }
   ],
   "source": [
    "len(education)"
   ]
  },
  {
   "cell_type": "code",
   "execution_count": 29,
   "id": "f86b6bbe",
   "metadata": {},
   "outputs": [],
   "source": [
    "list_1 = ['123',123,True] "
   ]
  },
  {
   "cell_type": "code",
   "execution_count": 33,
   "id": "5b557a7e",
   "metadata": {},
   "outputs": [
    {
     "data": {
      "text/plain": [
       "bool"
      ]
     },
     "execution_count": 33,
     "metadata": {},
     "output_type": "execute_result"
    }
   ],
   "source": [
    "type(list_1[2])plolol"
   ]
  },
  {
   "cell_type": "code",
   "execution_count": 34,
   "id": "0e1a56cf",
   "metadata": {},
   "outputs": [
    {
     "data": {
      "text/plain": [
       "str"
      ]
     },
     "execution_count": 34,
     "metadata": {},
     "output_type": "execute_result"
    }
   ],
   "source": [
    "type(list_1[0])"
   ]
  },
  {
   "cell_type": "code",
   "execution_count": 35,
   "id": "bb987841",
   "metadata": {},
   "outputs": [
    {
     "data": {
      "text/plain": [
       "int"
      ]
     },
     "execution_count": 35,
     "metadata": {},
     "output_type": "execute_result"
    }
   ],
   "source": [
    "type(list_1[1])"
   ]
  },
  {
   "cell_type": "code",
   "execution_count": 36,
   "id": "ab0ce96d",
   "metadata": {},
   "outputs": [],
   "source": [
    "fruits = [\"apple\", 'grapes', \"Strawberry\", \"Guva\" ]"
   ]
  },
  {
   "cell_type": "code",
   "execution_count": 38,
   "id": "0d5a4a5f",
   "metadata": {},
   "outputs": [
    {
     "data": {
      "text/plain": [
       "'Guva'"
      ]
     },
     "execution_count": 38,
     "metadata": {},
     "output_type": "execute_result"
    }
   ],
   "source": [
    "fruits[-1] # Negative Indexing"
   ]
  },
  {
   "cell_type": "code",
   "execution_count": 39,
   "id": "282f4111",
   "metadata": {},
   "outputs": [
    {
     "data": {
      "text/plain": [
       "'grapes'"
      ]
     },
     "execution_count": 39,
     "metadata": {},
     "output_type": "execute_result"
    }
   ],
   "source": [
    "fruits[1]"
   ]
  },
  {
   "cell_type": "code",
   "execution_count": 40,
   "id": "7dc735da",
   "metadata": {},
   "outputs": [
    {
     "data": {
      "text/plain": [
       "'grapes'"
      ]
     },
     "execution_count": 40,
     "metadata": {},
     "output_type": "execute_result"
    }
   ],
   "source": [
    "fruits[-3]"
   ]
  },
  {
   "cell_type": "code",
   "execution_count": 41,
   "id": "986d30d6",
   "metadata": {},
   "outputs": [
    {
     "data": {
      "text/plain": [
       "['grapes', 'Strawberry']"
      ]
     },
     "execution_count": 41,
     "metadata": {},
     "output_type": "execute_result"
    }
   ],
   "source": [
    "fruits[1:3]"
   ]
  },
  {
   "cell_type": "code",
   "execution_count": 42,
   "id": "629bbe99",
   "metadata": {},
   "outputs": [
    {
     "data": {
      "text/plain": [
       "[]"
      ]
     },
     "execution_count": 42,
     "metadata": {},
     "output_type": "execute_result"
    }
   ],
   "source": [
    "fruits[-1:-3] # As the list moves forward we can't print this "
   ]
  },
  {
   "cell_type": "code",
   "execution_count": 43,
   "id": "919543d8",
   "metadata": {},
   "outputs": [
    {
     "data": {
      "text/plain": [
       "['grapes', 'Strawberry']"
      ]
     },
     "execution_count": 43,
     "metadata": {},
     "output_type": "execute_result"
    }
   ],
   "source": [
    "fruits[-3:-1]"
   ]
  },
  {
   "cell_type": "code",
   "execution_count": 44,
   "id": "88165d56",
   "metadata": {},
   "outputs": [
    {
     "data": {
      "text/plain": [
       "['apple', 'grapes', 'Strawberry', 'Guva']"
      ]
     },
     "execution_count": 44,
     "metadata": {},
     "output_type": "execute_result"
    }
   ],
   "source": [
    "fruits"
   ]
  },
  {
   "cell_type": "code",
   "execution_count": 45,
   "id": "97b047a5",
   "metadata": {},
   "outputs": [],
   "source": [
    "fruits[0] = 'mango'"
   ]
  },
  {
   "cell_type": "code",
   "execution_count": 46,
   "id": "be851251",
   "metadata": {},
   "outputs": [
    {
     "data": {
      "text/plain": [
       "['mango', 'grapes', 'Strawberry', 'Guva']"
      ]
     },
     "execution_count": 46,
     "metadata": {},
     "output_type": "execute_result"
    }
   ],
   "source": [
    "fruits"
   ]
  },
  {
   "cell_type": "code",
   "execution_count": 47,
   "id": "27703004",
   "metadata": {},
   "outputs": [],
   "source": [
    "fruits[1:3] = ['blackcurrent',\"Watermelon\"] "
   ]
  },
  {
   "cell_type": "code",
   "execution_count": 48,
   "id": "b519ddca",
   "metadata": {},
   "outputs": [
    {
     "data": {
      "text/plain": [
       "['mango', 'blackcurrent', 'Watermelon', 'Guva']"
      ]
     },
     "execution_count": 48,
     "metadata": {},
     "output_type": "execute_result"
    }
   ],
   "source": [
    "fruits"
   ]
  },
  {
   "cell_type": "code",
   "execution_count": 49,
   "id": "89c8ba12",
   "metadata": {},
   "outputs": [],
   "source": [
    "fruits[1:3] = ['blackcurrent'] "
   ]
  },
  {
   "cell_type": "code",
   "execution_count": 50,
   "id": "75e377bc",
   "metadata": {},
   "outputs": [
    {
     "data": {
      "text/plain": [
       "['mango', 'blackcurrent', 'Guva']"
      ]
     },
     "execution_count": 50,
     "metadata": {},
     "output_type": "execute_result"
    }
   ],
   "source": [
    "fruits"
   ]
  },
  {
   "cell_type": "code",
   "execution_count": 51,
   "id": "c27ec08b",
   "metadata": {},
   "outputs": [
    {
     "data": {
      "text/plain": [
       "3"
      ]
     },
     "execution_count": 51,
     "metadata": {},
     "output_type": "execute_result"
    }
   ],
   "source": [
    "len(fruits)"
   ]
  },
  {
   "cell_type": "code",
   "execution_count": 52,
   "id": "870d54b4",
   "metadata": {},
   "outputs": [],
   "source": [
    "fruits = ['mango', 'blackcurrent', 'Watermelon', 'Guva']"
   ]
  },
  {
   "cell_type": "code",
   "execution_count": 53,
   "id": "03834414",
   "metadata": {},
   "outputs": [],
   "source": [
    "fruits.insert(1,'apple')"
   ]
  },
  {
   "cell_type": "code",
   "execution_count": 54,
   "id": "c4ed6964",
   "metadata": {},
   "outputs": [
    {
     "data": {
      "text/plain": [
       "['mango', 'apple', 'blackcurrent', 'Watermelon', 'Guva']"
      ]
     },
     "execution_count": 54,
     "metadata": {},
     "output_type": "execute_result"
    }
   ],
   "source": [
    "fruits"
   ]
  },
  {
   "cell_type": "code",
   "execution_count": 55,
   "id": "3978daac",
   "metadata": {},
   "outputs": [],
   "source": [
    "fruits.append(\"orange\")"
   ]
  },
  {
   "cell_type": "code",
   "execution_count": 56,
   "id": "f5231bd3",
   "metadata": {},
   "outputs": [
    {
     "data": {
      "text/plain": [
       "['mango', 'apple', 'blackcurrent', 'Watermelon', 'Guva', 'orange']"
      ]
     },
     "execution_count": 56,
     "metadata": {},
     "output_type": "execute_result"
    }
   ],
   "source": [
    "fruits"
   ]
  },
  {
   "cell_type": "code",
   "execution_count": 57,
   "id": "413e0e1a",
   "metadata": {},
   "outputs": [],
   "source": [
    "fruits.remove('apple')"
   ]
  },
  {
   "cell_type": "code",
   "execution_count": 58,
   "id": "5a3f6f48",
   "metadata": {},
   "outputs": [
    {
     "data": {
      "text/plain": [
       "['mango', 'blackcurrent', 'Watermelon', 'Guva', 'orange']"
      ]
     },
     "execution_count": 58,
     "metadata": {},
     "output_type": "execute_result"
    }
   ],
   "source": [
    "fruits"
   ]
  },
  {
   "cell_type": "code",
   "execution_count": 59,
   "id": "476fb6a0",
   "metadata": {},
   "outputs": [
    {
     "data": {
      "text/plain": [
       "'orange'"
      ]
     },
     "execution_count": 59,
     "metadata": {},
     "output_type": "execute_result"
    }
   ],
   "source": [
    "fruits.pop(4)"
   ]
  },
  {
   "cell_type": "code",
   "execution_count": 60,
   "id": "1960b1b4",
   "metadata": {},
   "outputs": [
    {
     "data": {
      "text/plain": [
       "['mango', 'blackcurrent', 'Watermelon', 'Guva']"
      ]
     },
     "execution_count": 60,
     "metadata": {},
     "output_type": "execute_result"
    }
   ],
   "source": [
    "fruits"
   ]
  },
  {
   "cell_type": "code",
   "execution_count": 61,
   "id": "69053ec2",
   "metadata": {},
   "outputs": [],
   "source": [
    "del fruits[3]"
   ]
  },
  {
   "cell_type": "code",
   "execution_count": 62,
   "id": "60626b71",
   "metadata": {},
   "outputs": [
    {
     "data": {
      "text/plain": [
       "'Watermelon'"
      ]
     },
     "execution_count": 62,
     "metadata": {},
     "output_type": "execute_result"
    }
   ],
   "source": [
    "fruits.pop()"
   ]
  },
  {
   "cell_type": "code",
   "execution_count": 63,
   "id": "a5e4e641",
   "metadata": {},
   "outputs": [
    {
     "data": {
      "text/plain": [
       "['mango', 'blackcurrent']"
      ]
     },
     "execution_count": 63,
     "metadata": {},
     "output_type": "execute_result"
    }
   ],
   "source": [
    "fruits"
   ]
  },
  {
   "cell_type": "code",
   "execution_count": 64,
   "id": "e771b9a5",
   "metadata": {},
   "outputs": [],
   "source": [
    "fruits.clear()"
   ]
  },
  {
   "cell_type": "code",
   "execution_count": 65,
   "id": "9364db5f",
   "metadata": {},
   "outputs": [
    {
     "data": {
      "text/plain": [
       "[]"
      ]
     },
     "execution_count": 65,
     "metadata": {},
     "output_type": "execute_result"
    }
   ],
   "source": [
    "fruits"
   ]
  },
  {
   "cell_type": "code",
   "execution_count": null,
   "id": "1077636c",
   "metadata": {},
   "outputs": [],
   "source": []
  }
 ],
 "metadata": {
  "kernelspec": {
   "display_name": "Python 3 (ipykernel)",
   "language": "python",
   "name": "python3"
  },
  "language_info": {
   "codemirror_mode": {
    "name": "ipython",
    "version": 3
   },
   "file_extension": ".py",
   "mimetype": "text/x-python",
   "name": "python",
   "nbconvert_exporter": "python",
   "pygments_lexer": "ipython3",
   "version": "3.10.6"
  }
 },
 "nbformat": 4,
 "nbformat_minor": 5
}
