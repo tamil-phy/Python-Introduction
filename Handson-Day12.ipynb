{
 "cells": [
  {
   "cell_type": "markdown",
   "id": "9a3586f2",
   "metadata": {},
   "source": [
    "# BMI"
   ]
  },
  {
   "cell_type": "code",
   "execution_count": 1,
   "id": "b76e2bb6",
   "metadata": {},
   "outputs": [],
   "source": [
    "# function that calculates BMI\n",
    "def calculate_bmi(weight,height):\n",
    "    bmi = weight/(height**2)\n",
    "    return bmi"
   ]
  },
  {
   "cell_type": "code",
   "execution_count": 2,
   "id": "7b3b16aa",
   "metadata": {},
   "outputs": [],
   "source": [
    "def interpret_bmi(bmi):\n",
    "    if bmi < 18.5:\n",
    "        return \"Underweight\"\n",
    "    elif bmi>=18.5 and bmi<25:\n",
    "        return \"Normal Weight\"\n",
    "    elif bmi>=25 and bmi<30:\n",
    "        return \"Overweight\"\n",
    "    else:\n",
    "        return\"Obese\""
   ]
  },
  {
   "cell_type": "code",
   "execution_count": 3,
   "id": "23a6dd18",
   "metadata": {},
   "outputs": [
    {
     "name": "stdout",
     "output_type": "stream",
     "text": [
      "Enter your weight in kilograms: 65\n",
      "Enter your height in meters: 1.75\n"
     ]
    }
   ],
   "source": [
    "weight = float(input(\"Enter your weight in kilograms: \"))\n",
    "height = float(input(\"Enter your height in meters: \"))"
   ]
  },
  {
   "cell_type": "code",
   "execution_count": 4,
   "id": "6840131e",
   "metadata": {},
   "outputs": [],
   "source": [
    "bmi = calculate_bmi(weight,height)\n",
    "bmi_category = interpret_bmi(bmi)"
   ]
  },
  {
   "cell_type": "code",
   "execution_count": 5,
   "id": "c04095ab",
   "metadata": {},
   "outputs": [
    {
     "name": "stdout",
     "output_type": "stream",
     "text": [
      "Your BMI is 21.22, which is Normal Weight.\n"
     ]
    }
   ],
   "source": [
    "print(f\"Your BMI is {bmi:.2f}, which is {bmi_category}.\")"
   ]
  },
  {
   "cell_type": "markdown",
   "id": "a479c504",
   "metadata": {},
   "source": [
    "# Dice Roller"
   ]
  },
  {
   "cell_type": "code",
   "execution_count": 6,
   "id": "372100ff",
   "metadata": {},
   "outputs": [],
   "source": [
    "import random"
   ]
  },
  {
   "cell_type": "code",
   "execution_count": 7,
   "id": "ebc0692b",
   "metadata": {},
   "outputs": [],
   "source": [
    "def roll_dice(num_sides,num_rolls):\n",
    "    results = []\n",
    "    for i in range(num_rolls):\n",
    "        result = random.randint(1,num_sides)\n",
    "        results.append(result)\n",
    "        print(f\"Roll {i+1}: {result}\")\n",
    "\n",
    "    print(f\"\\nTotal Rolls: {num_rolls}\")\n",
    "    print(f\"Total Sum: {(sum(results))}\")\n",
    "    \n"
   ]
  },
  {
   "cell_type": "code",
   "execution_count": 12,
   "id": "4555a658",
   "metadata": {},
   "outputs": [
    {
     "name": "stdout",
     "output_type": "stream",
     "text": [
      "Enter number of sides on the dice: 6\n",
      "Enter number of times to roll the dice: 1\n"
     ]
    }
   ],
   "source": [
    "num_sides = int(input(\"Enter number of sides on the dice: \"))\n",
    "num_rolls = int(input(\"Enter number of times to roll the dice: \"))"
   ]
  },
  {
   "cell_type": "code",
   "execution_count": 13,
   "id": "bf78a465",
   "metadata": {},
   "outputs": [
    {
     "name": "stdout",
     "output_type": "stream",
     "text": [
      "Roll 1: 4\n",
      "\n",
      "Total Rolls: 1\n",
      "Total Sum: 4\n"
     ]
    }
   ],
   "source": [
    "roll_dice(num_sides,num_rolls)"
   ]
  },
  {
   "cell_type": "code",
   "execution_count": null,
   "id": "48090403",
   "metadata": {},
   "outputs": [],
   "source": []
  }
 ],
 "metadata": {
  "kernelspec": {
   "display_name": "Python 3 (ipykernel)",
   "language": "python",
   "name": "python3"
  },
  "language_info": {
   "codemirror_mode": {
    "name": "ipython",
    "version": 3
   },
   "file_extension": ".py",
   "mimetype": "text/x-python",
   "name": "python",
   "nbconvert_exporter": "python",
   "pygments_lexer": "ipython3",
   "version": "3.10.6"
  }
 },
 "nbformat": 4,
 "nbformat_minor": 5
}
