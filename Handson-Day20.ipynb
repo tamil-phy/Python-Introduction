{
 "cells": [
  {
   "cell_type": "markdown",
   "id": "761d89b4",
   "metadata": {},
   "source": [
    "# Python - Scope ---> It refers to the part of the program where the variable is accessible. \n",
    "\n",
    "# Local & Global Scope"
   ]
  },
  {
   "cell_type": "code",
   "execution_count": 1,
   "id": "e8a33cec",
   "metadata": {},
   "outputs": [],
   "source": [
    "x = 10 # Global Variable "
   ]
  },
  {
   "cell_type": "code",
   "execution_count": 3,
   "id": "4803f515",
   "metadata": {},
   "outputs": [],
   "source": [
    "def my_function():\n",
    "    y = 5  # Local Variable \n",
    "    print(\"x inside function:\", x)\n",
    "    print(\"y inside function:\", y)"
   ]
  },
  {
   "cell_type": "code",
   "execution_count": 4,
   "id": "65104ffe",
   "metadata": {},
   "outputs": [
    {
     "name": "stdout",
     "output_type": "stream",
     "text": [
      "x inside function: 10\n",
      "y inside function: 5\n"
     ]
    }
   ],
   "source": [
    "my_function()"
   ]
  },
  {
   "cell_type": "code",
   "execution_count": 5,
   "id": "164b7e6a",
   "metadata": {},
   "outputs": [
    {
     "name": "stdout",
     "output_type": "stream",
     "text": [
      "x outside function: 10\n"
     ]
    }
   ],
   "source": [
    "print(\"x outside function:\", x)"
   ]
  },
  {
   "cell_type": "code",
   "execution_count": 6,
   "id": "97ad27f9",
   "metadata": {},
   "outputs": [
    {
     "ename": "NameError",
     "evalue": "name 'y' is not defined",
     "output_type": "error",
     "traceback": [
      "\u001b[0;31m---------------------------------------------------------------------------\u001b[0m",
      "\u001b[0;31mNameError\u001b[0m                                 Traceback (most recent call last)",
      "Cell \u001b[0;32mIn[6], line 1\u001b[0m\n\u001b[0;32m----> 1\u001b[0m \u001b[38;5;28mprint\u001b[39m(\u001b[38;5;124m\"\u001b[39m\u001b[38;5;124my outside function:\u001b[39m\u001b[38;5;124m\"\u001b[39m, \u001b[43my\u001b[49m)\n",
      "\u001b[0;31mNameError\u001b[0m: name 'y' is not defined"
     ]
    }
   ],
   "source": [
    "print(\"y outside function:\", y)"
   ]
  },
  {
   "cell_type": "code",
   "execution_count": 7,
   "id": "c5520e6b",
   "metadata": {},
   "outputs": [],
   "source": [
    "def my_function():\n",
    "    global y\n",
    "    y = 5  # Local Variable \n",
    "    print(\"x inside function:\", x)\n",
    "    print(\"y inside function:\", y)"
   ]
  },
  {
   "cell_type": "code",
   "execution_count": 8,
   "id": "ed5dd7fd",
   "metadata": {},
   "outputs": [
    {
     "name": "stdout",
     "output_type": "stream",
     "text": [
      "x inside function: 10\n",
      "y inside function: 5\n"
     ]
    }
   ],
   "source": [
    "my_function()"
   ]
  },
  {
   "cell_type": "code",
   "execution_count": 9,
   "id": "f2de716c",
   "metadata": {},
   "outputs": [
    {
     "name": "stdout",
     "output_type": "stream",
     "text": [
      "x outside function: 10\n"
     ]
    }
   ],
   "source": [
    "print(\"x outside function:\", x)"
   ]
  },
  {
   "cell_type": "code",
   "execution_count": 10,
   "id": "f0c25818",
   "metadata": {},
   "outputs": [
    {
     "name": "stdout",
     "output_type": "stream",
     "text": [
      "y outside function: 5\n"
     ]
    }
   ],
   "source": [
    "print(\"y outside function:\", y)"
   ]
  },
  {
   "cell_type": "markdown",
   "id": "f9ea04d3",
   "metadata": {},
   "source": [
    "# Write a program to prompt the user for hours and rate per hour using input to compute gross pay. Use 35 hours and a rate of 2.75 per hour to test the program (the pay should be 96.25). You should use input to read a string and float() to convert the string to a number. Do not worry about error checking or bad user data."
   ]
  },
  {
   "cell_type": "code",
   "execution_count": 11,
   "id": "6bfdd3e2",
   "metadata": {},
   "outputs": [
    {
     "name": "stdout",
     "output_type": "stream",
     "text": [
      "Enter Hour:35\n",
      "Enter the rate per hour:2.75\n"
     ]
    }
   ],
   "source": [
    "hrs = input(\"Enter Hour:\")\n",
    "rate = input(\"Enter the rate per hour:\")"
   ]
  },
  {
   "cell_type": "code",
   "execution_count": 12,
   "id": "304cb550",
   "metadata": {},
   "outputs": [],
   "source": [
    "gross_pay = float(hrs) * float(rate)"
   ]
  },
  {
   "cell_type": "code",
   "execution_count": 14,
   "id": "c966f79e",
   "metadata": {},
   "outputs": [
    {
     "name": "stdout",
     "output_type": "stream",
     "text": [
      "Pay:  96.25\n"
     ]
    }
   ],
   "source": [
    "print(\"Pay: \", gross_pay)"
   ]
  },
  {
   "cell_type": "code",
   "execution_count": null,
   "id": "05664c86",
   "metadata": {},
   "outputs": [],
   "source": []
  }
 ],
 "metadata": {
  "kernelspec": {
   "display_name": "Python 3 (ipykernel)",
   "language": "python",
   "name": "python3"
  },
  "language_info": {
   "codemirror_mode": {
    "name": "ipython",
    "version": 3
   },
   "file_extension": ".py",
   "mimetype": "text/x-python",
   "name": "python",
   "nbconvert_exporter": "python",
   "pygments_lexer": "ipython3",
   "version": "3.10.6"
  }
 },
 "nbformat": 4,
 "nbformat_minor": 5
}
