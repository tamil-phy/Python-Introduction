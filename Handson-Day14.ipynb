{
 "cells": [
  {
   "cell_type": "code",
   "execution_count": null,
   "id": "682980c3",
   "metadata": {},
   "outputs": [],
   "source": [
    "num = int(input())"
   ]
  },
  {
   "cell_type": "code",
   "execution_count": null,
   "id": "e5d8057f",
   "metadata": {},
   "outputs": [],
   "source": [
    "type(num)"
   ]
  },
  {
   "cell_type": "code",
   "execution_count": 33,
   "id": "24ca12af",
   "metadata": {},
   "outputs": [],
   "source": [
    "def any_prime(num):\n",
    "    if num <= 1:\n",
    "        return False\n",
    "    elif num == 2:\n",
    "        return True\n",
    "    else:\n",
    "        for i in range(2,int(num/2)+1):\n",
    "            if num % i == 0:\n",
    "                return False\n",
    "        return True    \n",
    "    "
   ]
  },
  {
   "cell_type": "code",
   "execution_count": 4,
   "id": "9ce4cd5d",
   "metadata": {},
   "outputs": [],
   "source": [
    "def find_primes(start,end):\n",
    "    primes = []\n",
    "    for num in range(start, end+1):\n",
    "        if is_prime(num):\n",
    "            primes.append(num)\n",
    "    return primes        "
   ]
  },
  {
   "cell_type": "code",
   "execution_count": 5,
   "id": "452fd6cc",
   "metadata": {},
   "outputs": [
    {
     "data": {
      "text/plain": [
       "[2, 3, 5, 7, 11, 13, 17, 19]"
      ]
     },
     "execution_count": 5,
     "metadata": {},
     "output_type": "execute_result"
    }
   ],
   "source": [
    "find_primes(1,19)"
   ]
  },
  {
   "cell_type": "code",
   "execution_count": 12,
   "id": "c741a939",
   "metadata": {},
   "outputs": [],
   "source": [
    "def is_prime(num):\n",
    "    if num < 2:\n",
    "        return False\n",
    "        for i in range(2,int(num/2)+1):\n",
    "            if num % i == 0:\n",
    "                return False\n",
    "        return True    \n",
    "    "
   ]
  },
  {
   "cell_type": "code",
   "execution_count": 25,
   "id": "8571a44d",
   "metadata": {},
   "outputs": [],
   "source": [
    "def print_primes(start,end):\n",
    "    while start <= end:\n",
    "        if is_prime(start):\n",
    "            print(start)\n",
    "        start += 1"
   ]
  },
  {
   "cell_type": "code",
   "execution_count": 26,
   "id": "bd54a6ee",
   "metadata": {},
   "outputs": [],
   "source": [
    "print_primes(1,10)"
   ]
  },
  {
   "cell_type": "code",
   "execution_count": 27,
   "id": "61a87f1d",
   "metadata": {},
   "outputs": [],
   "source": [
    "def display():\n",
    "    start = int(input(\"Enter the starting number: \"))\n",
    "    end = int(input(\"Enter the ending number: \"))\n",
    "    print(f\"The prime numbers between {start} and {end} are:\")\n",
    "    #print(\"The prime numbers between\", start, \"and\", end, \"are:\")\n",
    "    print_primes(start,end)"
   ]
  },
  {
   "cell_type": "code",
   "execution_count": 28,
   "id": "4e76f437",
   "metadata": {},
   "outputs": [
    {
     "name": "stdout",
     "output_type": "stream",
     "text": [
      "Enter the starting number: 1\n",
      "Enter the ending number: 10\n",
      "The prime numbers between 1 and 10 are:\n"
     ]
    }
   ],
   "source": [
    "display()"
   ]
  },
  {
   "cell_type": "code",
   "execution_count": 30,
   "id": "137e40d7",
   "metadata": {},
   "outputs": [],
   "source": [
    "def is_prime(num):\n",
    "    if num < 2:\n",
    "        return False\n",
    "    for i in range(2, int(num**0.5)+1):\n",
    "        if num % i == 0:\n",
    "            return False\n",
    "    return True\n",
    "\n",
    "def print_primes(start, end):\n",
    "    while start <= end:\n",
    "        if is_prime(start):\n",
    "            print(start)\n",
    "        start += 1\n",
    "\n",
    "def display():\n",
    "    start = int(input(\"Enter the starting number: \"))\n",
    "    end = int(input(\"Enter the ending number: \"))\n",
    "    print(\"The prime numbers between\", start, \"and\", end, \"are:\")\n",
    "    print_primes(start, end)"
   ]
  },
  {
   "cell_type": "code",
   "execution_count": 31,
   "id": "40501a21",
   "metadata": {},
   "outputs": [
    {
     "name": "stdout",
     "output_type": "stream",
     "text": [
      "2\n",
      "3\n",
      "5\n",
      "7\n"
     ]
    }
   ],
   "source": [
    "print_primes(1,10)"
   ]
  },
  {
   "cell_type": "code",
   "execution_count": 32,
   "id": "921e9d2f",
   "metadata": {},
   "outputs": [
    {
     "name": "stdout",
     "output_type": "stream",
     "text": [
      "Enter the starting number: 1\n",
      "Enter the ending number: 10\n",
      "The prime numbers between 1 and 10 are:\n",
      "2\n",
      "3\n",
      "5\n",
      "7\n"
     ]
    }
   ],
   "source": [
    "display()"
   ]
  },
  {
   "cell_type": "code",
   "execution_count": null,
   "id": "cf80c5d1",
   "metadata": {},
   "outputs": [],
   "source": []
  }
 ],
 "metadata": {
  "kernelspec": {
   "display_name": "Python 3 (ipykernel)",
   "language": "python",
   "name": "python3"
  },
  "language_info": {
   "codemirror_mode": {
    "name": "ipython",
    "version": 3
   },
   "file_extension": ".py",
   "mimetype": "text/x-python",
   "name": "python",
   "nbconvert_exporter": "python",
   "pygments_lexer": "ipython3",
   "version": "3.10.6"
  }
 },
 "nbformat": 4,
 "nbformat_minor": 5
}
