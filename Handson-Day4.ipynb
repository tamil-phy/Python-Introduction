{
 "cells": [
  {
   "cell_type": "markdown",
   "id": "c0a30611",
   "metadata": {},
   "source": [
    "# Method \tDescription - Try all on your own\n",
    "append()\tAdds an element at the end of the list \\\n",
    "clear()\tRemoves all the elements from the list \\\n",
    "copy()\tReturns a copy of the list \\\n",
    "count()\tReturns the number of elements with the specified value \\\n",
    "extend()\tAdd the elements of a list (or any iterable), to the end of the current list \\\n",
    "index()\tReturns the index of the first element with the specified value \\\n",
    "insert()\tAdds an element at the specified position \\\n",
    "pop()\tRemoves the element at the specified position \\\n",
    "remove()\tRemoves the item with the specified value \\\n",
    "reverse()\tReverses the order of the list \\\n",
    "sort()\tSorts the list \n"
   ]
  },
  {
   "cell_type": "code",
   "execution_count": 1,
   "id": "3511a384",
   "metadata": {},
   "outputs": [],
   "source": [
    "fruits = ['apple', 'Bannana', 'cherry'] # It is used to store items in a single variable"
   ]
  },
  {
   "cell_type": "code",
   "execution_count": 2,
   "id": "7e333349",
   "metadata": {},
   "outputs": [
    {
     "data": {
      "text/plain": [
       "list"
      ]
     },
     "execution_count": 2,
     "metadata": {},
     "output_type": "execute_result"
    }
   ],
   "source": [
    "type(fruits)"
   ]
  },
  {
   "cell_type": "code",
   "execution_count": 9,
   "id": "43222d48",
   "metadata": {},
   "outputs": [],
   "source": [
    "fruits1 = ('apple', 'Bannana', 'cherry','apple')"
   ]
  },
  {
   "cell_type": "code",
   "execution_count": 5,
   "id": "28ddedf3",
   "metadata": {},
   "outputs": [],
   "source": [
    "fruits[0] = 'orange'"
   ]
  },
  {
   "cell_type": "code",
   "execution_count": 6,
   "id": "78df489b",
   "metadata": {},
   "outputs": [
    {
     "ename": "TypeError",
     "evalue": "'tuple' object does not support item assignment",
     "output_type": "error",
     "traceback": [
      "\u001b[0;31m---------------------------------------------------------------------------\u001b[0m",
      "\u001b[0;31mTypeError\u001b[0m                                 Traceback (most recent call last)",
      "Cell \u001b[0;32mIn[6], line 1\u001b[0m\n\u001b[0;32m----> 1\u001b[0m \u001b[43mfruits1\u001b[49m\u001b[43m[\u001b[49m\u001b[38;5;241;43m0\u001b[39;49m\u001b[43m]\u001b[49m \u001b[38;5;241m=\u001b[39m \u001b[38;5;124m'\u001b[39m\u001b[38;5;124morange\u001b[39m\u001b[38;5;124m'\u001b[39m\n",
      "\u001b[0;31mTypeError\u001b[0m: 'tuple' object does not support item assignment"
     ]
    }
   ],
   "source": [
    "fruits1[0] = 'orange'"
   ]
  },
  {
   "cell_type": "code",
   "execution_count": 7,
   "id": "487fab69",
   "metadata": {},
   "outputs": [
    {
     "data": {
      "text/plain": [
       "['orange', 'Bannana', 'cherry']"
      ]
     },
     "execution_count": 7,
     "metadata": {},
     "output_type": "execute_result"
    }
   ],
   "source": [
    "fruits"
   ]
  },
  {
   "cell_type": "code",
   "execution_count": 8,
   "id": "c3f6e089",
   "metadata": {},
   "outputs": [
    {
     "data": {
      "text/plain": [
       "('apple', 'Bannana', 'cherry')"
      ]
     },
     "execution_count": 8,
     "metadata": {},
     "output_type": "execute_result"
    }
   ],
   "source": [
    "fruits1"
   ]
  },
  {
   "cell_type": "code",
   "execution_count": 12,
   "id": "862ced06",
   "metadata": {},
   "outputs": [],
   "source": [
    "fruits2 = ('apple',)"
   ]
  },
  {
   "cell_type": "code",
   "execution_count": 13,
   "id": "f95f0495",
   "metadata": {},
   "outputs": [
    {
     "data": {
      "text/plain": [
       "tuple"
      ]
     },
     "execution_count": 13,
     "metadata": {},
     "output_type": "execute_result"
    }
   ],
   "source": [
    "type(fruits2)"
   ]
  },
  {
   "cell_type": "code",
   "execution_count": 15,
   "id": "62cb5d9e",
   "metadata": {},
   "outputs": [],
   "source": [
    "#tuple - strings, integers and booleans"
   ]
  },
  {
   "cell_type": "code",
   "execution_count": 16,
   "id": "2d0c7ab4",
   "metadata": {},
   "outputs": [
    {
     "ename": "TypeError",
     "evalue": "tuple expected at most 1 argument, got 3",
     "output_type": "error",
     "traceback": [
      "\u001b[0;31m---------------------------------------------------------------------------\u001b[0m",
      "\u001b[0;31mTypeError\u001b[0m                                 Traceback (most recent call last)",
      "Cell \u001b[0;32mIn[16], line 1\u001b[0m\n\u001b[0;32m----> 1\u001b[0m owntuple \u001b[38;5;241m=\u001b[39m \u001b[38;5;28;43mtuple\u001b[39;49m\u001b[43m(\u001b[49m\u001b[38;5;124;43m\"\u001b[39;49m\u001b[38;5;124;43mapple\u001b[39;49m\u001b[38;5;124;43m\"\u001b[39;49m\u001b[43m,\u001b[49m\u001b[38;5;124;43m\"\u001b[39;49m\u001b[38;5;124;43mbannana\u001b[39;49m\u001b[38;5;124;43m\"\u001b[39;49m\u001b[43m,\u001b[49m\u001b[38;5;124;43m\"\u001b[39;49m\u001b[38;5;124;43mcherry\u001b[39;49m\u001b[38;5;124;43m\"\u001b[39;49m\u001b[43m)\u001b[49m\n",
      "\u001b[0;31mTypeError\u001b[0m: tuple expected at most 1 argument, got 3"
     ]
    }
   ],
   "source": [
    "owntuple = tuple(\"apple\",\"bannana\",\"cherry\")"
   ]
  },
  {
   "cell_type": "code",
   "execution_count": 17,
   "id": "c377f012",
   "metadata": {},
   "outputs": [],
   "source": [
    "owntuple = tuple((\"apple\",\"bannana\",\"cherry\"))"
   ]
  },
  {
   "cell_type": "code",
   "execution_count": 18,
   "id": "e8f0214e",
   "metadata": {},
   "outputs": [
    {
     "data": {
      "text/plain": [
       "tuple"
      ]
     },
     "execution_count": 18,
     "metadata": {},
     "output_type": "execute_result"
    }
   ],
   "source": [
    "type(owntuple)"
   ]
  },
  {
   "cell_type": "code",
   "execution_count": 19,
   "id": "ff0530d1",
   "metadata": {},
   "outputs": [
    {
     "ename": "TypeError",
     "evalue": "tuple expected at most 1 argument, got 2",
     "output_type": "error",
     "traceback": [
      "\u001b[0;31m---------------------------------------------------------------------------\u001b[0m",
      "\u001b[0;31mTypeError\u001b[0m                                 Traceback (most recent call last)",
      "Cell \u001b[0;32mIn[19], line 1\u001b[0m\n\u001b[0;32m----> 1\u001b[0m owntuple \u001b[38;5;241m=\u001b[39m \u001b[38;5;28;43mtuple\u001b[39;49m\u001b[43m(\u001b[49m\u001b[43m(\u001b[49m\u001b[38;5;124;43m\"\u001b[39;49m\u001b[38;5;124;43mapple\u001b[39;49m\u001b[38;5;124;43m\"\u001b[39;49m\u001b[43m,\u001b[49m\u001b[38;5;124;43m\"\u001b[39;49m\u001b[38;5;124;43mbannana\u001b[39;49m\u001b[38;5;124;43m\"\u001b[39;49m\u001b[43m,\u001b[49m\u001b[38;5;124;43m\"\u001b[39;49m\u001b[38;5;124;43mcherry\u001b[39;49m\u001b[38;5;124;43m\"\u001b[39;49m\u001b[43m)\u001b[49m\u001b[43m,\u001b[49m\u001b[43m(\u001b[49m\u001b[38;5;124;43m\"\u001b[39;49m\u001b[38;5;124;43mapple1\u001b[39;49m\u001b[38;5;124;43m\"\u001b[39;49m\u001b[43m,\u001b[49m\u001b[38;5;124;43m\"\u001b[39;49m\u001b[38;5;124;43mbannana2\u001b[39;49m\u001b[38;5;124;43m\"\u001b[39;49m\u001b[43m,\u001b[49m\u001b[38;5;124;43m\"\u001b[39;49m\u001b[38;5;124;43mcherry3\u001b[39;49m\u001b[38;5;124;43m\"\u001b[39;49m\u001b[43m)\u001b[49m\u001b[43m)\u001b[49m\n",
      "\u001b[0;31mTypeError\u001b[0m: tuple expected at most 1 argument, got 2"
     ]
    }
   ],
   "source": [
    "owntuple = tuple((\"apple\",\"bannana\",\"cherry\"),(\"apple1\",\"bannana2\",\"cherry3\"))"
   ]
  },
  {
   "cell_type": "code",
   "execution_count": 20,
   "id": "2a169ac4",
   "metadata": {},
   "outputs": [
    {
     "data": {
      "text/plain": [
       "'apple'"
      ]
     },
     "execution_count": 20,
     "metadata": {},
     "output_type": "execute_result"
    }
   ],
   "source": [
    "fruits1[0]"
   ]
  },
  {
   "cell_type": "code",
   "execution_count": 21,
   "id": "830574ad",
   "metadata": {},
   "outputs": [
    {
     "data": {
      "text/plain": [
       "'apple'"
      ]
     },
     "execution_count": 21,
     "metadata": {},
     "output_type": "execute_result"
    }
   ],
   "source": [
    "fruits1[-1]"
   ]
  },
  {
   "cell_type": "code",
   "execution_count": 23,
   "id": "ade1132e",
   "metadata": {},
   "outputs": [
    {
     "data": {
      "text/plain": [
       "'cherry'"
      ]
     },
     "execution_count": 23,
     "metadata": {},
     "output_type": "execute_result"
    }
   ],
   "source": [
    "fruits1[-2]"
   ]
  },
  {
   "cell_type": "code",
   "execution_count": 24,
   "id": "241bd8cb",
   "metadata": {},
   "outputs": [
    {
     "data": {
      "text/plain": [
       "('Bannana', 'cherry')"
      ]
     },
     "execution_count": 24,
     "metadata": {},
     "output_type": "execute_result"
    }
   ],
   "source": [
    "fruits1[1:3]"
   ]
  },
  {
   "cell_type": "code",
   "execution_count": 26,
   "id": "31d93cde",
   "metadata": {},
   "outputs": [
    {
     "data": {
      "text/plain": [
       "('apple', 'Bannana', 'cherry')"
      ]
     },
     "execution_count": 26,
     "metadata": {},
     "output_type": "execute_result"
    }
   ],
   "source": [
    "fruits1[0:3]"
   ]
  },
  {
   "cell_type": "code",
   "execution_count": 27,
   "id": "b80d4a82",
   "metadata": {},
   "outputs": [
    {
     "data": {
      "text/plain": [
       "['Bannana', 'cherry']"
      ]
     },
     "execution_count": 27,
     "metadata": {},
     "output_type": "execute_result"
    }
   ],
   "source": [
    "fruits[1:]"
   ]
  },
  {
   "cell_type": "code",
   "execution_count": 28,
   "id": "f2b34c94",
   "metadata": {},
   "outputs": [],
   "source": [
    "trial = (\"apple\", \"banana\", \"cherry\", \"orange\", \"kiwi\", \"melon\", \"mango\")"
   ]
  },
  {
   "cell_type": "code",
   "execution_count": 29,
   "id": "4311970b",
   "metadata": {},
   "outputs": [
    {
     "data": {
      "text/plain": [
       "('cherry', 'orange', 'kiwi', 'melon', 'mango')"
      ]
     },
     "execution_count": 29,
     "metadata": {},
     "output_type": "execute_result"
    }
   ],
   "source": [
    "trial[2:]"
   ]
  },
  {
   "cell_type": "code",
   "execution_count": 30,
   "id": "769feb34",
   "metadata": {},
   "outputs": [
    {
     "name": "stdout",
     "output_type": "stream",
     "text": [
      "apple is in the tuple\n"
     ]
    }
   ],
   "source": [
    "if 'apple' in fruits1:\n",
    "    print(\"apple is in the tuple\")"
   ]
  },
  {
   "cell_type": "code",
   "execution_count": 31,
   "id": "62791375",
   "metadata": {},
   "outputs": [],
   "source": [
    "tuple_1 = (\"apple\", \"banana\", \"cherry\")"
   ]
  },
  {
   "cell_type": "code",
   "execution_count": 32,
   "id": "2cfa28ad",
   "metadata": {},
   "outputs": [],
   "source": [
    "list_1 = list(tuple_1)"
   ]
  },
  {
   "cell_type": "code",
   "execution_count": 33,
   "id": "40cbdb1e",
   "metadata": {},
   "outputs": [],
   "source": [
    "list_1[0] = 'kiwi'"
   ]
  },
  {
   "cell_type": "code",
   "execution_count": 34,
   "id": "4aa12c4b",
   "metadata": {},
   "outputs": [],
   "source": [
    "tuple_1 = tuple(list_1)"
   ]
  },
  {
   "cell_type": "code",
   "execution_count": 35,
   "id": "d53b193e",
   "metadata": {},
   "outputs": [
    {
     "data": {
      "text/plain": [
       "('kiwi', 'banana', 'cherry')"
      ]
     },
     "execution_count": 35,
     "metadata": {},
     "output_type": "execute_result"
    }
   ],
   "source": [
    "tuple_1"
   ]
  },
  {
   "cell_type": "code",
   "execution_count": 36,
   "id": "2cfd2a91",
   "metadata": {},
   "outputs": [],
   "source": [
    "tuple_2 = trial + tuple_1"
   ]
  },
  {
   "cell_type": "code",
   "execution_count": 37,
   "id": "dfad380b",
   "metadata": {},
   "outputs": [
    {
     "data": {
      "text/plain": [
       "('apple',\n",
       " 'banana',\n",
       " 'cherry',\n",
       " 'orange',\n",
       " 'kiwi',\n",
       " 'melon',\n",
       " 'mango',\n",
       " 'kiwi',\n",
       " 'banana',\n",
       " 'cherry')"
      ]
     },
     "execution_count": 37,
     "metadata": {},
     "output_type": "execute_result"
    }
   ],
   "source": [
    "tuple_2"
   ]
  },
  {
   "cell_type": "markdown",
   "id": "afaa1478",
   "metadata": {},
   "source": [
    "# Set - Unordered Collection of unique elements --> It won't have duplicate values. \\\n",
    "## {} --> List"
   ]
  },
  {
   "cell_type": "markdown",
   "id": "d113fafb",
   "metadata": {},
   "source": [
    "Built-In methods - add(), remove(), union()"
   ]
  },
  {
   "cell_type": "code",
   "execution_count": 42,
   "id": "e9610c38",
   "metadata": {},
   "outputs": [],
   "source": [
    "my_set = {1,2,3,4,3,5}"
   ]
  },
  {
   "cell_type": "code",
   "execution_count": 39,
   "id": "edf7c80a",
   "metadata": {},
   "outputs": [
    {
     "data": {
      "text/plain": [
       "{1, 2, 3, 4, 5}"
      ]
     },
     "execution_count": 39,
     "metadata": {},
     "output_type": "execute_result"
    }
   ],
   "source": [
    "my_set"
   ]
  },
  {
   "cell_type": "code",
   "execution_count": 40,
   "id": "6425a028",
   "metadata": {},
   "outputs": [],
   "source": [
    "my_set = {1, 'apple',(1,2,3)}"
   ]
  },
  {
   "cell_type": "code",
   "execution_count": 41,
   "id": "29be747a",
   "metadata": {},
   "outputs": [
    {
     "ename": "TypeError",
     "evalue": "'set' object is not subscriptable",
     "output_type": "error",
     "traceback": [
      "\u001b[0;31m---------------------------------------------------------------------------\u001b[0m",
      "\u001b[0;31mTypeError\u001b[0m                                 Traceback (most recent call last)",
      "Cell \u001b[0;32mIn[41], line 1\u001b[0m\n\u001b[0;32m----> 1\u001b[0m \u001b[38;5;28mtype\u001b[39m(\u001b[43mmy_set\u001b[49m\u001b[43m[\u001b[49m\u001b[38;5;241;43m2\u001b[39;49m\u001b[43m]\u001b[49m)\n",
      "\u001b[0;31mTypeError\u001b[0m: 'set' object is not subscriptable"
     ]
    }
   ],
   "source": [
    "type(my_set[2])"
   ]
  },
  {
   "cell_type": "code",
   "execution_count": 43,
   "id": "823179a6",
   "metadata": {},
   "outputs": [],
   "source": [
    "my_set.add(6)"
   ]
  },
  {
   "cell_type": "code",
   "execution_count": 44,
   "id": "3356fe9c",
   "metadata": {},
   "outputs": [
    {
     "data": {
      "text/plain": [
       "{1, 2, 3, 4, 5, 6}"
      ]
     },
     "execution_count": 44,
     "metadata": {},
     "output_type": "execute_result"
    }
   ],
   "source": [
    "my_set"
   ]
  },
  {
   "cell_type": "code",
   "execution_count": 45,
   "id": "a1f20769",
   "metadata": {},
   "outputs": [],
   "source": [
    "my_set_1 = {4,5,6,7}"
   ]
  },
  {
   "cell_type": "code",
   "execution_count": 46,
   "id": "5b7bb46d",
   "metadata": {},
   "outputs": [],
   "source": [
    "my_set_2 = my_set.union(my_set_1)"
   ]
  },
  {
   "cell_type": "code",
   "execution_count": 47,
   "id": "c2f135d6",
   "metadata": {},
   "outputs": [
    {
     "data": {
      "text/plain": [
       "{1, 2, 3, 4, 5, 6, 7}"
      ]
     },
     "execution_count": 47,
     "metadata": {},
     "output_type": "execute_result"
    }
   ],
   "source": [
    "my_set_2"
   ]
  },
  {
   "cell_type": "code",
   "execution_count": 48,
   "id": "5b58833a",
   "metadata": {},
   "outputs": [],
   "source": [
    "set1 = {1, 2, 3}\n",
    "set2 = {3, 4, 5}\n"
   ]
  },
  {
   "cell_type": "code",
   "execution_count": 49,
   "id": "7d035910",
   "metadata": {},
   "outputs": [
    {
     "name": "stdout",
     "output_type": "stream",
     "text": [
      "{3}\n"
     ]
    }
   ],
   "source": [
    "set3 = set1.intersection(set2)\n",
    "print(set3) "
   ]
  },
  {
   "cell_type": "code",
   "execution_count": 50,
   "id": "9425ea46",
   "metadata": {},
   "outputs": [],
   "source": [
    "set4 = set1.difference(set2)"
   ]
  },
  {
   "cell_type": "code",
   "execution_count": 51,
   "id": "379ab35a",
   "metadata": {},
   "outputs": [
    {
     "data": {
      "text/plain": [
       "{1, 2}"
      ]
     },
     "execution_count": 51,
     "metadata": {},
     "output_type": "execute_result"
    }
   ],
   "source": [
    "set4"
   ]
  },
  {
   "cell_type": "code",
   "execution_count": 52,
   "id": "112cbfc0",
   "metadata": {},
   "outputs": [],
   "source": [
    "set5 = set2.difference(set1)"
   ]
  },
  {
   "cell_type": "code",
   "execution_count": 53,
   "id": "b577799e",
   "metadata": {},
   "outputs": [
    {
     "data": {
      "text/plain": [
       "{4, 5}"
      ]
     },
     "execution_count": 53,
     "metadata": {},
     "output_type": "execute_result"
    }
   ],
   "source": [
    "set5"
   ]
  },
  {
   "cell_type": "code",
   "execution_count": 54,
   "id": "f3b781f6",
   "metadata": {},
   "outputs": [
    {
     "name": "stdout",
     "output_type": "stream",
     "text": [
      "[1, 2, 3, 4, 5]\n"
     ]
    }
   ],
   "source": [
    "my_list = [1, 2, 3, 3, 4, 5]\n",
    "my_set = set(my_list)\n",
    "unique_list = list(my_set)\n",
    "print(unique_list)  \n"
   ]
  },
  {
   "cell_type": "code",
   "execution_count": 55,
   "id": "a4ce4a71",
   "metadata": {},
   "outputs": [
    {
     "data": {
      "text/plain": [
       "[1, 2, 3, 3, 4, 5]"
      ]
     },
     "execution_count": 55,
     "metadata": {},
     "output_type": "execute_result"
    }
   ],
   "source": [
    "my_list"
   ]
  },
  {
   "cell_type": "code",
   "execution_count": 56,
   "id": "55793304",
   "metadata": {},
   "outputs": [
    {
     "data": {
      "text/plain": [
       "{1, 2, 3, 4, 5}"
      ]
     },
     "execution_count": 56,
     "metadata": {},
     "output_type": "execute_result"
    }
   ],
   "source": [
    "my_set"
   ]
  },
  {
   "cell_type": "code",
   "execution_count": null,
   "id": "2204d78a",
   "metadata": {},
   "outputs": [],
   "source": []
  }
 ],
 "metadata": {
  "kernelspec": {
   "display_name": "Python 3 (ipykernel)",
   "language": "python",
   "name": "python3"
  },
  "language_info": {
   "codemirror_mode": {
    "name": "ipython",
    "version": 3
   },
   "file_extension": ".py",
   "mimetype": "text/x-python",
   "name": "python",
   "nbconvert_exporter": "python",
   "pygments_lexer": "ipython3",
   "version": "3.10.6"
  }
 },
 "nbformat": 4,
 "nbformat_minor": 5
}
