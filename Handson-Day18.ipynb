{
 "cells": [
  {
   "cell_type": "code",
   "execution_count": 1,
   "id": "01408acd",
   "metadata": {},
   "outputs": [],
   "source": [
    "class BankAccount:\n",
    "    def __init__(self, account_number, balance):\n",
    "        self.account_number = account_number\n",
    "        self.balance = balance\n",
    "    \n",
    "    def deposit(self, amount):\n",
    "        self.balance += amount\n",
    "    \n",
    "    def withdraw(self, amount):\n",
    "        if amount <= self.balance:\n",
    "            self.balance -= amount\n",
    "        else:\n",
    "            print(\"Insufficient balance\")\n",
    "            \n",
    "    def get_balance(self):\n",
    "        return self.balance\n",
    "         "
   ]
  },
  {
   "cell_type": "code",
   "execution_count": 8,
   "id": "39ceb055",
   "metadata": {},
   "outputs": [],
   "source": [
    "feynman  = BankAccount(1234567890,5000)"
   ]
  },
  {
   "cell_type": "code",
   "execution_count": 9,
   "id": "06ca6bb7",
   "metadata": {},
   "outputs": [
    {
     "name": "stdout",
     "output_type": "stream",
     "text": [
      "1234567890\n"
     ]
    }
   ],
   "source": [
    "print(feynman.account_number)"
   ]
  },
  {
   "cell_type": "code",
   "execution_count": 10,
   "id": "888fcb91",
   "metadata": {},
   "outputs": [
    {
     "name": "stdout",
     "output_type": "stream",
     "text": [
      "5000\n"
     ]
    }
   ],
   "source": [
    "print(feynman.get_balance())"
   ]
  },
  {
   "cell_type": "code",
   "execution_count": 11,
   "id": "bf11057e",
   "metadata": {},
   "outputs": [],
   "source": [
    "feynman.deposit(10000)"
   ]
  },
  {
   "cell_type": "code",
   "execution_count": 12,
   "id": "e52d40b5",
   "metadata": {},
   "outputs": [
    {
     "name": "stdout",
     "output_type": "stream",
     "text": [
      "15000\n"
     ]
    }
   ],
   "source": [
    "print(feynman.get_balance())"
   ]
  },
  {
   "cell_type": "code",
   "execution_count": 13,
   "id": "8fadd72e",
   "metadata": {},
   "outputs": [],
   "source": [
    "feynman.withdraw(12000)"
   ]
  },
  {
   "cell_type": "code",
   "execution_count": 14,
   "id": "e67e615c",
   "metadata": {},
   "outputs": [
    {
     "name": "stdout",
     "output_type": "stream",
     "text": [
      "3000\n"
     ]
    }
   ],
   "source": [
    "print(feynman.get_balance())"
   ]
  },
  {
   "cell_type": "code",
   "execution_count": 15,
   "id": "34d89db3",
   "metadata": {},
   "outputs": [
    {
     "name": "stdout",
     "output_type": "stream",
     "text": [
      "Insufficient balance\n"
     ]
    }
   ],
   "source": [
    "feynman.withdraw(4000)"
   ]
  },
  {
   "cell_type": "code",
   "execution_count": null,
   "id": "e9d0894b",
   "metadata": {},
   "outputs": [],
   "source": []
  }
 ],
 "metadata": {
  "kernelspec": {
   "display_name": "Python 3 (ipykernel)",
   "language": "python",
   "name": "python3"
  },
  "language_info": {
   "codemirror_mode": {
    "name": "ipython",
    "version": 3
   },
   "file_extension": ".py",
   "mimetype": "text/x-python",
   "name": "python",
   "nbconvert_exporter": "python",
   "pygments_lexer": "ipython3",
   "version": "3.10.6"
  }
 },
 "nbformat": 4,
 "nbformat_minor": 5
}
