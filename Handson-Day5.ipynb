{
 "cells": [
  {
   "cell_type": "markdown",
   "id": "5cb1cd6e",
   "metadata": {},
   "source": [
    "# Dictionaries"
   ]
  },
  {
   "cell_type": "markdown",
   "id": "068f34cd",
   "metadata": {},
   "source": [
    "# Mutable , dynamic, nested "
   ]
  },
  {
   "cell_type": "code",
   "execution_count": 1,
   "id": "e409d765",
   "metadata": {},
   "outputs": [],
   "source": [
    "list1 = [\"1\",\"2\",\"3\"]"
   ]
  },
  {
   "cell_type": "code",
   "execution_count": 3,
   "id": "4eec57b0",
   "metadata": {},
   "outputs": [
    {
     "data": {
      "text/plain": [
       "('1', '2', '3')"
      ]
     },
     "execution_count": 3,
     "metadata": {},
     "output_type": "execute_result"
    }
   ],
   "source": [
    "list1[0],list1[1],list1[2]"
   ]
  },
  {
   "cell_type": "markdown",
   "id": "f4a0fe05",
   "metadata": {},
   "source": [
    "Associative Array - Key-Value Pair"
   ]
  },
  {
   "cell_type": "code",
   "execution_count": 4,
   "id": "385b4fc6",
   "metadata": {},
   "outputs": [],
   "source": [
    "grade = {\"Sub1\":\"C\", \"Sub2\":\"D\", \"Sub3\":\"C\", \"Sub4\":\"B\"}"
   ]
  },
  {
   "cell_type": "code",
   "execution_count": 5,
   "id": "39b7344f",
   "metadata": {},
   "outputs": [
    {
     "data": {
      "text/plain": [
       "dict"
      ]
     },
     "execution_count": 5,
     "metadata": {},
     "output_type": "execute_result"
    }
   ],
   "source": [
    "type(grade)"
   ]
  },
  {
   "cell_type": "code",
   "execution_count": 6,
   "id": "c6fd1085",
   "metadata": {},
   "outputs": [
    {
     "data": {
      "text/plain": [
       "4"
      ]
     },
     "execution_count": 6,
     "metadata": {},
     "output_type": "execute_result"
    }
   ],
   "source": [
    "len(grade)"
   ]
  },
  {
   "cell_type": "code",
   "execution_count": 7,
   "id": "4d8137ac",
   "metadata": {},
   "outputs": [
    {
     "ename": "KeyError",
     "evalue": "0",
     "output_type": "error",
     "traceback": [
      "\u001b[0;31m---------------------------------------------------------------------------\u001b[0m",
      "\u001b[0;31mKeyError\u001b[0m                                  Traceback (most recent call last)",
      "Cell \u001b[0;32mIn[7], line 1\u001b[0m\n\u001b[0;32m----> 1\u001b[0m \u001b[43mgrade\u001b[49m\u001b[43m[\u001b[49m\u001b[38;5;241;43m0\u001b[39;49m\u001b[43m]\u001b[49m\n",
      "\u001b[0;31mKeyError\u001b[0m: 0"
     ]
    }
   ],
   "source": [
    "grade[0]"
   ]
  },
  {
   "cell_type": "code",
   "execution_count": 8,
   "id": "4c9f99a5",
   "metadata": {},
   "outputs": [
    {
     "ename": "NameError",
     "evalue": "name 'Sub1' is not defined",
     "output_type": "error",
     "traceback": [
      "\u001b[0;31m---------------------------------------------------------------------------\u001b[0m",
      "\u001b[0;31mNameError\u001b[0m                                 Traceback (most recent call last)",
      "Cell \u001b[0;32mIn[8], line 1\u001b[0m\n\u001b[0;32m----> 1\u001b[0m grade[\u001b[43mSub1\u001b[49m]\n",
      "\u001b[0;31mNameError\u001b[0m: name 'Sub1' is not defined"
     ]
    }
   ],
   "source": [
    "grade[Sub1]"
   ]
  },
  {
   "cell_type": "code",
   "execution_count": 9,
   "id": "c5da248a",
   "metadata": {},
   "outputs": [
    {
     "data": {
      "text/plain": [
       "'C'"
      ]
     },
     "execution_count": 9,
     "metadata": {},
     "output_type": "execute_result"
    }
   ],
   "source": [
    "grade['Sub1']"
   ]
  },
  {
   "cell_type": "code",
   "execution_count": 10,
   "id": "40315510",
   "metadata": {},
   "outputs": [],
   "source": [
    "personal_info = {\"name\":\"Name\", \"DOB\":\"00-00-0000\",\"Gender\":\"M/F/I\"}"
   ]
  },
  {
   "cell_type": "code",
   "execution_count": 11,
   "id": "5db636f9",
   "metadata": {},
   "outputs": [],
   "source": [
    "students = [\"aa\",'bb','cc','dd']"
   ]
  },
  {
   "cell_type": "code",
   "execution_count": 12,
   "id": "d443e70c",
   "metadata": {},
   "outputs": [],
   "source": [
    "num = [\"1\",'2','3','4'] "
   ]
  },
  {
   "cell_type": "code",
   "execution_count": 17,
   "id": "7c34c5a6",
   "metadata": {},
   "outputs": [
    {
     "ename": "ValueError",
     "evalue": "dictionary update sequence element #0 has length 4; 2 is required",
     "output_type": "error",
     "traceback": [
      "\u001b[0;31m---------------------------------------------------------------------------\u001b[0m",
      "\u001b[0;31mValueError\u001b[0m                                Traceback (most recent call last)",
      "Cell \u001b[0;32mIn[17], line 1\u001b[0m\n\u001b[0;32m----> 1\u001b[0m \u001b[38;5;28;43mdict\u001b[39;49m\u001b[43m(\u001b[49m\u001b[43m(\u001b[49m\u001b[43mstudents\u001b[49m\u001b[43m,\u001b[49m\u001b[43mnum\u001b[49m\u001b[43m)\u001b[49m\u001b[43m)\u001b[49m\n",
      "\u001b[0;31mValueError\u001b[0m: dictionary update sequence element #0 has length 4; 2 is required"
     ]
    }
   ],
   "source": [
    "dict((students,num))"
   ]
  },
  {
   "cell_type": "code",
   "execution_count": 14,
   "id": "85127a6e",
   "metadata": {},
   "outputs": [
    {
     "data": {
      "text/plain": [
       "{'aa': '1', 'bb': '2', 'cc': '3', 'dd': '4'}"
      ]
     },
     "execution_count": 14,
     "metadata": {},
     "output_type": "execute_result"
    }
   ],
   "source": [
    "dict(zip(students,num))"
   ]
  },
  {
   "cell_type": "code",
   "execution_count": 20,
   "id": "0d2f883f",
   "metadata": {},
   "outputs": [],
   "source": [
    "dict1= dict(aa=1,bb=2,cc=3,dd=4)"
   ]
  },
  {
   "cell_type": "code",
   "execution_count": 21,
   "id": "87a3a525",
   "metadata": {},
   "outputs": [
    {
     "name": "stdout",
     "output_type": "stream",
     "text": [
      "{'aa': 1, 'bb': 2, 'cc': 3, 'dd': 4}\n"
     ]
    }
   ],
   "source": [
    "print(dict1)"
   ]
  },
  {
   "cell_type": "code",
   "execution_count": 22,
   "id": "6c5dbfc4",
   "metadata": {},
   "outputs": [
    {
     "data": {
      "text/plain": [
       "2"
      ]
     },
     "execution_count": 22,
     "metadata": {},
     "output_type": "execute_result"
    }
   ],
   "source": [
    "dict1['bb']"
   ]
  },
  {
   "cell_type": "markdown",
   "id": "ad0a5bbe",
   "metadata": {},
   "source": [
    "# Change"
   ]
  },
  {
   "cell_type": "code",
   "execution_count": 23,
   "id": "3930b254",
   "metadata": {},
   "outputs": [
    {
     "ename": "SyntaxError",
     "evalue": "cannot assign to literal here. Maybe you meant '==' instead of '='? (3966929452.py, line 1)",
     "output_type": "error",
     "traceback": [
      "\u001b[0;36m  Cell \u001b[0;32mIn[23], line 1\u001b[0;36m\u001b[0m\n\u001b[0;31m    dict1['bb'='5']\u001b[0m\n\u001b[0m          ^\u001b[0m\n\u001b[0;31mSyntaxError\u001b[0m\u001b[0;31m:\u001b[0m cannot assign to literal here. Maybe you meant '==' instead of '='?\n"
     ]
    }
   ],
   "source": [
    "dict1['bb'='5']"
   ]
  },
  {
   "cell_type": "code",
   "execution_count": 24,
   "id": "2dd11659",
   "metadata": {},
   "outputs": [],
   "source": [
    "dict1['bb'] = 5"
   ]
  },
  {
   "cell_type": "code",
   "execution_count": 25,
   "id": "a6d58c95",
   "metadata": {},
   "outputs": [
    {
     "data": {
      "text/plain": [
       "{'aa': 1, 'bb': 5, 'cc': 3, 'dd': 4}"
      ]
     },
     "execution_count": 25,
     "metadata": {},
     "output_type": "execute_result"
    }
   ],
   "source": [
    "dict1"
   ]
  },
  {
   "cell_type": "code",
   "execution_count": 26,
   "id": "b518b5c2",
   "metadata": {},
   "outputs": [],
   "source": [
    "dict1.update({'dd':7})"
   ]
  },
  {
   "cell_type": "code",
   "execution_count": 27,
   "id": "ba451d3c",
   "metadata": {},
   "outputs": [
    {
     "data": {
      "text/plain": [
       "{'aa': 1, 'bb': 5, 'cc': 3, 'dd': 7}"
      ]
     },
     "execution_count": 27,
     "metadata": {},
     "output_type": "execute_result"
    }
   ],
   "source": [
    "dict1"
   ]
  },
  {
   "cell_type": "markdown",
   "id": "84f4b82e",
   "metadata": {},
   "source": [
    "# Adding"
   ]
  },
  {
   "cell_type": "code",
   "execution_count": 28,
   "id": "9d04b5c0",
   "metadata": {},
   "outputs": [],
   "source": [
    "dict1[\"ee\"] = 8"
   ]
  },
  {
   "cell_type": "code",
   "execution_count": 29,
   "id": "381079e4",
   "metadata": {},
   "outputs": [
    {
     "data": {
      "text/plain": [
       "{'aa': 1, 'bb': 5, 'cc': 3, 'dd': 7, 'ee': 8}"
      ]
     },
     "execution_count": 29,
     "metadata": {},
     "output_type": "execute_result"
    }
   ],
   "source": [
    "dict1"
   ]
  },
  {
   "cell_type": "code",
   "execution_count": 30,
   "id": "367f83bb",
   "metadata": {},
   "outputs": [],
   "source": [
    "dict1.update({'gg':10})"
   ]
  },
  {
   "cell_type": "code",
   "execution_count": 31,
   "id": "9333cb5f",
   "metadata": {},
   "outputs": [
    {
     "data": {
      "text/plain": [
       "{'aa': 1, 'bb': 5, 'cc': 3, 'dd': 7, 'ee': 8, 'gg': 10}"
      ]
     },
     "execution_count": 31,
     "metadata": {},
     "output_type": "execute_result"
    }
   ],
   "source": [
    "dict1"
   ]
  },
  {
   "cell_type": "code",
   "execution_count": 32,
   "id": "d9b169d3",
   "metadata": {},
   "outputs": [
    {
     "data": {
      "text/plain": [
       "10"
      ]
     },
     "execution_count": 32,
     "metadata": {},
     "output_type": "execute_result"
    }
   ],
   "source": [
    "dict1.pop('gg')"
   ]
  },
  {
   "cell_type": "code",
   "execution_count": 33,
   "id": "f355e9a1",
   "metadata": {},
   "outputs": [
    {
     "data": {
      "text/plain": [
       "{'aa': 1, 'bb': 5, 'cc': 3, 'dd': 7, 'ee': 8}"
      ]
     },
     "execution_count": 33,
     "metadata": {},
     "output_type": "execute_result"
    }
   ],
   "source": [
    "dict1"
   ]
  },
  {
   "cell_type": "code",
   "execution_count": 34,
   "id": "67e4720d",
   "metadata": {},
   "outputs": [],
   "source": [
    "del dict1['ee']"
   ]
  },
  {
   "cell_type": "code",
   "execution_count": 35,
   "id": "2f8ce5b1",
   "metadata": {},
   "outputs": [
    {
     "data": {
      "text/plain": [
       "{'aa': 1, 'bb': 5, 'cc': 3, 'dd': 7}"
      ]
     },
     "execution_count": 35,
     "metadata": {},
     "output_type": "execute_result"
    }
   ],
   "source": [
    "dict1"
   ]
  },
  {
   "cell_type": "code",
   "execution_count": 37,
   "id": "0099320f",
   "metadata": {},
   "outputs": [
    {
     "ename": "SyntaxError",
     "evalue": "invalid syntax (2080137890.py, line 1)",
     "output_type": "error",
     "traceback": [
      "\u001b[0;36m  Cell \u001b[0;32mIn[37], line 1\u001b[0;36m\u001b[0m\n\u001b[0;31m    dict1.append('ee':8)\u001b[0m\n\u001b[0m                     ^\u001b[0m\n\u001b[0;31mSyntaxError\u001b[0m\u001b[0;31m:\u001b[0m invalid syntax\n"
     ]
    }
   ],
   "source": [
    "dict1.append('ee':8)"
   ]
  },
  {
   "cell_type": "code",
   "execution_count": 38,
   "id": "21d9660c",
   "metadata": {},
   "outputs": [],
   "source": [
    "dict1[\"ee\"] = []"
   ]
  },
  {
   "cell_type": "code",
   "execution_count": 39,
   "id": "45956001",
   "metadata": {},
   "outputs": [
    {
     "data": {
      "text/plain": [
       "{'aa': 1, 'bb': 5, 'cc': 3, 'dd': 7, 'ee': []}"
      ]
     },
     "execution_count": 39,
     "metadata": {},
     "output_type": "execute_result"
    }
   ],
   "source": [
    "dict1"
   ]
  },
  {
   "cell_type": "code",
   "execution_count": 40,
   "id": "ca84a577",
   "metadata": {},
   "outputs": [],
   "source": [
    "dict1['ee'].append(8)"
   ]
  },
  {
   "cell_type": "code",
   "execution_count": 41,
   "id": "1d162f30",
   "metadata": {},
   "outputs": [
    {
     "data": {
      "text/plain": [
       "{'aa': 1, 'bb': 5, 'cc': 3, 'dd': 7, 'ee': [8]}"
      ]
     },
     "execution_count": 41,
     "metadata": {},
     "output_type": "execute_result"
    }
   ],
   "source": [
    "dict1"
   ]
  },
  {
   "cell_type": "code",
   "execution_count": 42,
   "id": "46ac5b75",
   "metadata": {},
   "outputs": [],
   "source": [
    "dict1['ff'] = 10"
   ]
  },
  {
   "cell_type": "code",
   "execution_count": 43,
   "id": "795e0b1a",
   "metadata": {},
   "outputs": [
    {
     "data": {
      "text/plain": [
       "{'aa': 1, 'bb': 5, 'cc': 3, 'dd': 7, 'ee': [8], 'ff': 10}"
      ]
     },
     "execution_count": 43,
     "metadata": {},
     "output_type": "execute_result"
    }
   ],
   "source": [
    "dict1"
   ]
  },
  {
   "cell_type": "code",
   "execution_count": null,
   "id": "835dd7be",
   "metadata": {},
   "outputs": [],
   "source": [
    "name = {'age':}"
   ]
  }
 ],
 "metadata": {
  "kernelspec": {
   "display_name": "Python 3 (ipykernel)",
   "language": "python",
   "name": "python3"
  },
  "language_info": {
   "codemirror_mode": {
    "name": "ipython",
    "version": 3
   },
   "file_extension": ".py",
   "mimetype": "text/x-python",
   "name": "python",
   "nbconvert_exporter": "python",
   "pygments_lexer": "ipython3",
   "version": "3.10.6"
  }
 },
 "nbformat": 4,
 "nbformat_minor": 5
}
