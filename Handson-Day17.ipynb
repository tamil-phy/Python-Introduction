{
 "cells": [
  {
   "cell_type": "markdown",
   "id": "7256c8a5",
   "metadata": {},
   "source": [
    "# Simple Class with attributes and methods"
   ]
  },
  {
   "cell_type": "code",
   "execution_count": 1,
   "id": "e51b3841",
   "metadata": {},
   "outputs": [],
   "source": [
    "class Person:\n",
    "    def __init__(self,name,age):\n",
    "        self.name = name\n",
    "        self.age = age\n",
    "        \n",
    "    def say_hello(self):\n",
    "        print(\"Hello, my name is \",self.name)\n",
    "        "
   ]
  },
  {
   "cell_type": "code",
   "execution_count": 4,
   "id": "bae08038",
   "metadata": {},
   "outputs": [],
   "source": [
    "p1 = Person(\"Tamil\",34) # Creating objects of the Person class"
   ]
  },
  {
   "cell_type": "code",
   "execution_count": 5,
   "id": "d26320ed",
   "metadata": {},
   "outputs": [
    {
     "name": "stdout",
     "output_type": "stream",
     "text": [
      "Tamil\n",
      "34\n"
     ]
    }
   ],
   "source": [
    "# accessing attributes of objects\n",
    "print(p1.name)\n",
    "print(p1.age)"
   ]
  },
  {
   "cell_type": "code",
   "execution_count": 6,
   "id": "727a6cc6",
   "metadata": {},
   "outputs": [
    {
     "name": "stdout",
     "output_type": "stream",
     "text": [
      "Hello, my name is  Tamil\n"
     ]
    }
   ],
   "source": [
    "p1.say_hello()"
   ]
  },
  {
   "cell_type": "markdown",
   "id": "86340b18",
   "metadata": {},
   "source": [
    "# Inheritance - Creating a derived class from a base class"
   ]
  },
  {
   "cell_type": "code",
   "execution_count": 7,
   "id": "56407784",
   "metadata": {},
   "outputs": [],
   "source": [
    "class Animal: # This line starts the definition of a new class called \"Animal\"\n",
    "    def __init__(self,name): # Constructor method / __init__ method is called when an instance of the class is created and it is used to set the initial state of the object\n",
    "        self.name = name\n",
    "    def speak(self):\n",
    "        print(\"The Anmimal makes a sound\")"
   ]
  },
  {
   "cell_type": "code",
   "execution_count": 8,
   "id": "2403e2f1",
   "metadata": {},
   "outputs": [],
   "source": [
    "class Dog(Animal):\n",
    "    def __init__(self,name):\n",
    "        super().__init__(name)\n",
    "    def speak(self):\n",
    "        print(self.name,\"barks\")"
   ]
  },
  {
   "cell_type": "code",
   "execution_count": 10,
   "id": "a00b448b",
   "metadata": {},
   "outputs": [],
   "source": [
    "a1 = Animal('some animal')"
   ]
  },
  {
   "cell_type": "code",
   "execution_count": 11,
   "id": "068b1f87",
   "metadata": {},
   "outputs": [
    {
     "name": "stdout",
     "output_type": "stream",
     "text": [
      "The Anmimal makes a sound\n"
     ]
    }
   ],
   "source": [
    "a1.speak()"
   ]
  },
  {
   "cell_type": "code",
   "execution_count": 12,
   "id": "0065331f",
   "metadata": {},
   "outputs": [],
   "source": [
    "b1 = Dog(\"Good\")"
   ]
  },
  {
   "cell_type": "code",
   "execution_count": 13,
   "id": "39c4b403",
   "metadata": {},
   "outputs": [
    {
     "name": "stdout",
     "output_type": "stream",
     "text": [
      "Good barks\n"
     ]
    }
   ],
   "source": [
    "b1.speak()"
   ]
  },
  {
   "cell_type": "code",
   "execution_count": null,
   "id": "a521c648",
   "metadata": {},
   "outputs": [],
   "source": []
  }
 ],
 "metadata": {
  "kernelspec": {
   "display_name": "Python 3 (ipykernel)",
   "language": "python",
   "name": "python3"
  },
  "language_info": {
   "codemirror_mode": {
    "name": "ipython",
    "version": 3
   },
   "file_extension": ".py",
   "mimetype": "text/x-python",
   "name": "python",
   "nbconvert_exporter": "python",
   "pygments_lexer": "ipython3",
   "version": "3.10.6"
  }
 },
 "nbformat": 4,
 "nbformat_minor": 5
}
