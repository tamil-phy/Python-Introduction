{
 "cells": [
  {
   "cell_type": "code",
   "execution_count": 1,
   "id": "51017097-e014-4c69-9066-58d1c7c7ea22",
   "metadata": {
    "tags": []
   },
   "outputs": [],
   "source": [
    "import unicodedata"
   ]
  },
  {
   "cell_type": "code",
   "execution_count": 2,
   "id": "80834a8e-9e67-4063-8fd9-99d68a8d1815",
   "metadata": {
    "tags": []
   },
   "outputs": [],
   "source": [
    "text = \"Café\"\n"
   ]
  },
  {
   "cell_type": "code",
   "execution_count": 3,
   "id": "bbe543de-61ca-42a9-b561-10468e8d137d",
   "metadata": {
    "tags": []
   },
   "outputs": [],
   "source": [
    "normalized_text = unicodedata.normalize('NFC',text)"
   ]
  },
  {
   "cell_type": "code",
   "execution_count": 4,
   "id": "f997aaa0-a87d-42a6-ad3a-597824f42e3e",
   "metadata": {
    "tags": []
   },
   "outputs": [
    {
     "name": "stdout",
     "output_type": "stream",
     "text": [
      "Café\n"
     ]
    }
   ],
   "source": [
    "print(normalized_text)"
   ]
  },
  {
   "cell_type": "code",
   "execution_count": 5,
   "id": "fce968bf-e093-4972-8d2d-f7d2a23f8d78",
   "metadata": {
    "tags": []
   },
   "outputs": [
    {
     "name": "stdout",
     "output_type": "stream",
     "text": [
      "C 0\n",
      "a 0\n",
      "f 0\n",
      "é 0\n"
     ]
    }
   ],
   "source": [
    "for char in text:\n",
    "    print(char,unicodedata.combining(char))"
   ]
  },
  {
   "cell_type": "code",
   "execution_count": 7,
   "id": "712ce2d1-1c07-4c67-8e6a-65334cc77226",
   "metadata": {
    "tags": []
   },
   "outputs": [
    {
     "name": "stdout",
     "output_type": "stream",
     "text": [
      "e 0\n",
      "̂ 230\n"
     ]
    }
   ],
   "source": [
    "import unicodedata\n",
    "\n",
    "text = \"ê\"\n",
    "\n",
    "for char in text:\n",
    "    print(char, unicodedata.combining(char))  # e 0 ◌̂ 230\n"
   ]
  },
  {
   "cell_type": "code",
   "execution_count": 14,
   "id": "a9a80e9d-a5b8-4f89-b1cf-32795df502cb",
   "metadata": {
    "tags": []
   },
   "outputs": [
    {
     "name": "stdout",
     "output_type": "stream",
     "text": [
      "Text without diacritics: Cafe Ni Hao  vnnkkm\n",
      "Bidirectional text: Café 你好 வணக்கம்\n",
      "Transliterated text: Cafe Ni Hao  vnnkkm\n",
      "Number of non-BMP characters: 0\n"
     ]
    }
   ],
   "source": [
    "import unicodedata\n",
    "from bidi.algorithm import get_display\n",
    "from unidecode import unidecode\n",
    "\n",
    "# Example text with diacritics and non-BMP characters\n",
    "text = \"Café 你好 வணக்கம்\"\n",
    "\n",
    "# Remove diacritics using unidecode\n",
    "text_without_diacritics = unidecode(text)\n",
    "print(\"Text without diacritics:\", text_without_diacritics)\n",
    "\n",
    "# Get the bidirectional representation of the text\n",
    "bidirectional_text = get_display(text)\n",
    "print(\"Bidirectional text:\", bidirectional_text)\n",
    "\n",
    "# Transliterate the text from Tamil script to Latin script using unidecode\n",
    "transliterated_text = unidecode(text)\n",
    "print(\"Transliterated text:\", transliterated_text)\n",
    "\n",
    "# Count the number of non-BMP characters\n",
    "non_bmp_count = sum(1 for char in text if ord(char) > 0xFFFF)\n",
    "print(\"Number of non-BMP characters:\", non_bmp_count)\n"
   ]
  },
  {
   "cell_type": "code",
   "execution_count": null,
   "id": "f91c45da-15d0-4c92-8d01-ecea0b906859",
   "metadata": {},
   "outputs": [],
   "source": []
  }
 ],
 "metadata": {
  "kernelspec": {
   "display_name": "Python 3 (ipykernel)",
   "language": "python",
   "name": "python3"
  },
  "language_info": {
   "codemirror_mode": {
    "name": "ipython",
    "version": 3
   },
   "file_extension": ".py",
   "mimetype": "text/x-python",
   "name": "python",
   "nbconvert_exporter": "python",
   "pygments_lexer": "ipython3",
   "version": "3.10.6"
  }
 },
 "nbformat": 4,
 "nbformat_minor": 5
}
