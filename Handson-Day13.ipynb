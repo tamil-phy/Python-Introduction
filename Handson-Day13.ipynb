{
 "cells": [
  {
   "cell_type": "markdown",
   "id": "e2107ffe",
   "metadata": {},
   "source": [
    "# Grading System"
   ]
  },
  {
   "cell_type": "code",
   "execution_count": 2,
   "id": "1a87800b",
   "metadata": {},
   "outputs": [],
   "source": [
    "# Selva - Grading\n",
    "# Madhan - rank\n",
    "# Sai - attendance"
   ]
  },
  {
   "cell_type": "markdown",
   "id": "40a39259",
   "metadata": {},
   "source": [
    "# Lambda"
   ]
  },
  {
   "cell_type": "code",
   "execution_count": 3,
   "id": "638584a7",
   "metadata": {},
   "outputs": [],
   "source": [
    "a = lambda x: x*5 # lambda argument(s): expression"
   ]
  },
  {
   "cell_type": "code",
   "execution_count": 4,
   "id": "deae9f50",
   "metadata": {},
   "outputs": [
    {
     "data": {
      "text/plain": [
       "25"
      ]
     },
     "execution_count": 4,
     "metadata": {},
     "output_type": "execute_result"
    }
   ],
   "source": [
    "a(5)"
   ]
  },
  {
   "cell_type": "code",
   "execution_count": 5,
   "id": "fe0a5685",
   "metadata": {},
   "outputs": [],
   "source": [
    "def f(x):\n",
    "    return x*5"
   ]
  },
  {
   "cell_type": "code",
   "execution_count": 6,
   "id": "c6494c2c",
   "metadata": {},
   "outputs": [
    {
     "data": {
      "text/plain": [
       "25"
      ]
     },
     "execution_count": 6,
     "metadata": {},
     "output_type": "execute_result"
    }
   ],
   "source": [
    "f(5)"
   ]
  },
  {
   "cell_type": "markdown",
   "id": "9ae0d5e3",
   "metadata": {},
   "source": [
    "# Enumerate"
   ]
  },
  {
   "cell_type": "code",
   "execution_count": 10,
   "id": "816df72a",
   "metadata": {},
   "outputs": [
    {
     "name": "stdout",
     "output_type": "stream",
     "text": [
      "1 apple\n",
      "2 banana\n",
      "3 cherry\n"
     ]
    }
   ],
   "source": [
    "fruits = [\"apple\",\"banana\", \"cherry\"]\n",
    "for i, fruit in enumerate(fruits):\n",
    "    print(i+1,fruit)"
   ]
  },
  {
   "cell_type": "markdown",
   "id": "85c07b1f",
   "metadata": {},
   "source": [
    "# Sorted"
   ]
  },
  {
   "cell_type": "code",
   "execution_count": 12,
   "id": "6e979a80",
   "metadata": {},
   "outputs": [
    {
     "name": "stdout",
     "output_type": "stream",
     "text": [
      "[4, 2, 8, 5, 3, 1, 7]\n",
      "[1, 2, 3, 4, 5, 7, 8]\n"
     ]
    }
   ],
   "source": [
    "numbers = [4,2,8,5,3,1,7]\n",
    "sorted_numbers = sorted(numbers)\n",
    "print(numbers)\n",
    "print(sorted_numbers)"
   ]
  },
  {
   "cell_type": "code",
   "execution_count": 7,
   "id": "dae92be9",
   "metadata": {},
   "outputs": [],
   "source": [
    "# Sample input data\n",
    "marks = {\"Language\": 80, \"English\": 95, \"Maths\": 65, \"Social\": 92, \"Science\": 75 }"
   ]
  },
  {
   "cell_type": "code",
   "execution_count": 13,
   "id": "5d9d8b51",
   "metadata": {},
   "outputs": [
    {
     "data": {
      "text/plain": [
       "dict_items([('Language', 80), ('English', 95), ('Maths', 65), ('Social', 92), ('Science', 75)])"
      ]
     },
     "execution_count": 13,
     "metadata": {},
     "output_type": "execute_result"
    }
   ],
   "source": [
    "marks.items()"
   ]
  },
  {
   "cell_type": "code",
   "execution_count": 15,
   "id": "ce30bccc",
   "metadata": {},
   "outputs": [],
   "source": [
    "sorted_marks = sorted(marks.items(), key=lambda x: x[1],reverse =True)"
   ]
  },
  {
   "cell_type": "code",
   "execution_count": 21,
   "id": "d75a9bf9",
   "metadata": {},
   "outputs": [
    {
     "name": "stdout",
     "output_type": "stream",
     "text": [
      "Sorted marks:\n",
      "English 95\n",
      "Social 92\n",
      "Language 80\n",
      "Science 75\n",
      "Maths 65\n"
     ]
    }
   ],
   "source": [
    "print(\"Sorted marks:\")\n",
    "for name, mark in sorted_marks:\n",
    "    print(name , mark)"
   ]
  },
  {
   "cell_type": "code",
   "execution_count": null,
   "id": "4f6f91ae",
   "metadata": {},
   "outputs": [],
   "source": [
    "print(\"Sorted marks:\")\n",
    "for i, (name, mark) in sorted_marks:\n",
    "    print(i+1, name , mark) # Home Work Number the items "
   ]
  },
  {
   "cell_type": "code",
   "execution_count": 18,
   "id": "62e78280",
   "metadata": {},
   "outputs": [
    {
     "name": "stdout",
     "output_type": "stream",
     "text": [
      "1. English - A+\n",
      "2. Social - A+\n",
      "3. Language - A\n",
      "4. Science - B\n",
      "5. Maths - C\n"
     ]
    }
   ],
   "source": [
    "for i, (name,mark) in enumerate(sorted_marks):\n",
    "    if mark >= 90:\n",
    "        grade = \"A+\"\n",
    "    elif mark >= 80:\n",
    "        grade = \"A\"\n",
    "    elif mark >= 70:\n",
    "        grade = \"B\"\n",
    "    elif mark >= 60:\n",
    "        grade = \"C\"\n",
    "    else:\n",
    "        grade = \"F\"\n",
    "        \n",
    "        \n",
    "    print(f\"{i+1}. {name} - {grade}\")    \n",
    "    \n",
    "    "
   ]
  },
  {
   "cell_type": "code",
   "execution_count": null,
   "id": "d60f8781",
   "metadata": {},
   "outputs": [],
   "source": []
  }
 ],
 "metadata": {
  "kernelspec": {
   "display_name": "Python 3 (ipykernel)",
   "language": "python",
   "name": "python3"
  },
  "language_info": {
   "codemirror_mode": {
    "name": "ipython",
    "version": 3
   },
   "file_extension": ".py",
   "mimetype": "text/x-python",
   "name": "python",
   "nbconvert_exporter": "python",
   "pygments_lexer": "ipython3",
   "version": "3.10.6"
  }
 },
 "nbformat": 4,
 "nbformat_minor": 5
}
