{
 "cells": [
  {
   "cell_type": "markdown",
   "id": "ddad0fbc",
   "metadata": {},
   "source": [
    "# ToDo list "
   ]
  },
  {
   "cell_type": "code",
   "execution_count": 2,
   "id": "ab46c090",
   "metadata": {},
   "outputs": [
    {
     "name": "stdout",
     "output_type": "stream",
     "text": [
      "Enter a todo list:\n"
     ]
    }
   ],
   "source": [
    "print(\"Enter a todo list:\")"
   ]
  },
  {
   "cell_type": "code",
   "execution_count": 3,
   "id": "3ecce28b",
   "metadata": {},
   "outputs": [
    {
     "name": "stdout",
     "output_type": "stream",
     "text": [
      "Enter a todo list:\n",
      "clea\n"
     ]
    },
    {
     "data": {
      "text/plain": [
       "'clea'"
      ]
     },
     "execution_count": 3,
     "metadata": {},
     "output_type": "execute_result"
    }
   ],
   "source": [
    "print(\"Enter a todo list:\")\n",
    "input()"
   ]
  },
  {
   "cell_type": "code",
   "execution_count": 4,
   "id": "0bff9484",
   "metadata": {},
   "outputs": [
    {
     "name": "stdout",
     "output_type": "stream",
     "text": [
      "Enter a todo list:\n",
      "clean\n"
     ]
    }
   ],
   "source": [
    "print(\"Enter a todo list:\")\n",
    "entry = input()"
   ]
  },
  {
   "cell_type": "code",
   "execution_count": 5,
   "id": "1f4ba050",
   "metadata": {},
   "outputs": [
    {
     "name": "stdout",
     "output_type": "stream",
     "text": [
      "clean\n"
     ]
    }
   ],
   "source": [
    "print(entry)"
   ]
  },
  {
   "cell_type": "code",
   "execution_count": 6,
   "id": "94060868",
   "metadata": {},
   "outputs": [
    {
     "name": "stdout",
     "output_type": "stream",
     "text": [
      "Enter a todo list: clea\n"
     ]
    }
   ],
   "source": [
    "message = \"Enter a todo list: \"\n",
    "entry = input(message)"
   ]
  },
  {
   "cell_type": "markdown",
   "id": "60b365a7",
   "metadata": {},
   "source": [
    "# list of todo list"
   ]
  },
  {
   "cell_type": "code",
   "execution_count": 7,
   "id": "fe32e6a4",
   "metadata": {},
   "outputs": [
    {
     "name": "stdout",
     "output_type": "stream",
     "text": [
      "Enter a todo list: throw\n",
      "Enter a todo list: clean\n",
      "Enter a todo list: study\n",
      "Enter a todo list: wash\n"
     ]
    }
   ],
   "source": [
    "message = \"Enter a todo list: \"\n",
    "entry_1 = input(message)\n",
    "entry_2 = input(message)\n",
    "entry_3 = input(message)\n",
    "entry_4 = input(message)\n"
   ]
  },
  {
   "cell_type": "code",
   "execution_count": 8,
   "id": "e7a2140e",
   "metadata": {},
   "outputs": [
    {
     "name": "stdout",
     "output_type": "stream",
     "text": [
      "Enter a todo list: throw\n",
      "Enter a todo list: clean\n",
      "Enter a todo list: study\n",
      "Enter a todo list: wash\n",
      "['throw', 'clean', 'study', 'wash']\n"
     ]
    }
   ],
   "source": [
    "message = \"Enter a todo list: \"\n",
    "entry_1 = input(message)\n",
    "entry_2 = input(message)\n",
    "entry_3 = input(message)\n",
    "entry_4 = input(message)\n",
    "todos = [entry_1,entry_2,entry_3,entry_4]\n",
    "print(todos)"
   ]
  },
  {
   "cell_type": "code",
   "execution_count": 9,
   "id": "ba371b40",
   "metadata": {},
   "outputs": [
    {
     "name": "stdout",
     "output_type": "stream",
     "text": [
      "Enter a todo list: clean\n",
      "clean\n",
      "Enter a todo list: buy\n",
      "buy\n"
     ]
    },
    {
     "ename": "KeyboardInterrupt",
     "evalue": "Interrupted by user",
     "output_type": "error",
     "traceback": [
      "\u001b[0;31m---------------------------------------------------------------------------\u001b[0m",
      "\u001b[0;31mKeyboardInterrupt\u001b[0m                         Traceback (most recent call last)",
      "Cell \u001b[0;32mIn[9], line 3\u001b[0m\n\u001b[1;32m      1\u001b[0m message \u001b[38;5;241m=\u001b[39m \u001b[38;5;124m\"\u001b[39m\u001b[38;5;124mEnter a todo list: \u001b[39m\u001b[38;5;124m\"\u001b[39m\n\u001b[1;32m      2\u001b[0m \u001b[38;5;28;01mwhile\u001b[39;00m \u001b[38;5;28;01mTrue\u001b[39;00m:\n\u001b[0;32m----> 3\u001b[0m     entry \u001b[38;5;241m=\u001b[39m \u001b[38;5;28;43minput\u001b[39;49m\u001b[43m(\u001b[49m\u001b[43mmessage\u001b[49m\u001b[43m)\u001b[49m\n\u001b[1;32m      4\u001b[0m     \u001b[38;5;28mprint\u001b[39m(entry)\n",
      "File \u001b[0;32m~/.virtualenvs/ml/lib/python3.10/site-packages/ipykernel/kernelbase.py:1187\u001b[0m, in \u001b[0;36mKernel.raw_input\u001b[0;34m(self, prompt)\u001b[0m\n\u001b[1;32m   1185\u001b[0m     msg \u001b[38;5;241m=\u001b[39m \u001b[38;5;124m\"\u001b[39m\u001b[38;5;124mraw_input was called, but this frontend does not support input requests.\u001b[39m\u001b[38;5;124m\"\u001b[39m\n\u001b[1;32m   1186\u001b[0m     \u001b[38;5;28;01mraise\u001b[39;00m StdinNotImplementedError(msg)\n\u001b[0;32m-> 1187\u001b[0m \u001b[38;5;28;01mreturn\u001b[39;00m \u001b[38;5;28;43mself\u001b[39;49m\u001b[38;5;241;43m.\u001b[39;49m\u001b[43m_input_request\u001b[49m\u001b[43m(\u001b[49m\n\u001b[1;32m   1188\u001b[0m \u001b[43m    \u001b[49m\u001b[38;5;28;43mstr\u001b[39;49m\u001b[43m(\u001b[49m\u001b[43mprompt\u001b[49m\u001b[43m)\u001b[49m\u001b[43m,\u001b[49m\n\u001b[1;32m   1189\u001b[0m \u001b[43m    \u001b[49m\u001b[38;5;28;43mself\u001b[39;49m\u001b[38;5;241;43m.\u001b[39;49m\u001b[43m_parent_ident\u001b[49m\u001b[43m[\u001b[49m\u001b[38;5;124;43m\"\u001b[39;49m\u001b[38;5;124;43mshell\u001b[39;49m\u001b[38;5;124;43m\"\u001b[39;49m\u001b[43m]\u001b[49m\u001b[43m,\u001b[49m\n\u001b[1;32m   1190\u001b[0m \u001b[43m    \u001b[49m\u001b[38;5;28;43mself\u001b[39;49m\u001b[38;5;241;43m.\u001b[39;49m\u001b[43mget_parent\u001b[49m\u001b[43m(\u001b[49m\u001b[38;5;124;43m\"\u001b[39;49m\u001b[38;5;124;43mshell\u001b[39;49m\u001b[38;5;124;43m\"\u001b[39;49m\u001b[43m)\u001b[49m\u001b[43m,\u001b[49m\n\u001b[1;32m   1191\u001b[0m \u001b[43m    \u001b[49m\u001b[43mpassword\u001b[49m\u001b[38;5;241;43m=\u001b[39;49m\u001b[38;5;28;43;01mFalse\u001b[39;49;00m\u001b[43m,\u001b[49m\n\u001b[1;32m   1192\u001b[0m \u001b[43m\u001b[49m\u001b[43m)\u001b[49m\n",
      "File \u001b[0;32m~/.virtualenvs/ml/lib/python3.10/site-packages/ipykernel/kernelbase.py:1230\u001b[0m, in \u001b[0;36mKernel._input_request\u001b[0;34m(self, prompt, ident, parent, password)\u001b[0m\n\u001b[1;32m   1227\u001b[0m \u001b[38;5;28;01mexcept\u001b[39;00m \u001b[38;5;167;01mKeyboardInterrupt\u001b[39;00m:\n\u001b[1;32m   1228\u001b[0m     \u001b[38;5;66;03m# re-raise KeyboardInterrupt, to truncate traceback\u001b[39;00m\n\u001b[1;32m   1229\u001b[0m     msg \u001b[38;5;241m=\u001b[39m \u001b[38;5;124m\"\u001b[39m\u001b[38;5;124mInterrupted by user\u001b[39m\u001b[38;5;124m\"\u001b[39m\n\u001b[0;32m-> 1230\u001b[0m     \u001b[38;5;28;01mraise\u001b[39;00m \u001b[38;5;167;01mKeyboardInterrupt\u001b[39;00m(msg) \u001b[38;5;28;01mfrom\u001b[39;00m \u001b[38;5;28mNone\u001b[39m\n\u001b[1;32m   1231\u001b[0m \u001b[38;5;28;01mexcept\u001b[39;00m \u001b[38;5;167;01mException\u001b[39;00m:\n\u001b[1;32m   1232\u001b[0m     \u001b[38;5;28mself\u001b[39m\u001b[38;5;241m.\u001b[39mlog\u001b[38;5;241m.\u001b[39mwarning(\u001b[38;5;124m\"\u001b[39m\u001b[38;5;124mInvalid Message:\u001b[39m\u001b[38;5;124m\"\u001b[39m, exc_info\u001b[38;5;241m=\u001b[39m\u001b[38;5;28;01mTrue\u001b[39;00m)\n",
      "\u001b[0;31mKeyboardInterrupt\u001b[0m: Interrupted by user"
     ]
    }
   ],
   "source": [
    "message = \"Enter a todo list: \"\n",
    "while True:\n",
    "    entry = input(message)\n",
    "    print(entry)"
   ]
  },
  {
   "cell_type": "code",
   "execution_count": null,
   "id": "622d8a44",
   "metadata": {},
   "outputs": [],
   "source": [
    "message = \"Enter a todo list: \"\n",
    "while True:\n",
    "    entry = input(message)\n",
    "    entries = [entry]\n",
    "    print(entry)"
   ]
  },
  {
   "cell_type": "code",
   "execution_count": null,
   "id": "92a1be77",
   "metadata": {},
   "outputs": [],
   "source": [
    "message = \"Enter a todo list: \"\n",
    "entries = []\n",
    "while True:\n",
    "    entry = input(message)\n",
    "    entries.append(entry)\n",
    "    print(entries)"
   ]
  },
  {
   "cell_type": "code",
   "execution_count": null,
   "id": "befd991e",
   "metadata": {},
   "outputs": [],
   "source": [
    "entries = []\n",
    "while True:\n",
    "    user_entry = input(\"To add, show or exit: \")\n",
    "    if user_entry == 'add':\n",
    "        entry = input(\"Enter a todo: \")\n",
    "        entries.append(entry)\n",
    "    elif user_entry == 'show':\n",
    "        print(entries)\n",
    "    else:\n",
    "        break"
   ]
  },
  {
   "cell_type": "code",
   "execution_count": null,
   "id": "af540aeb",
   "metadata": {},
   "outputs": [],
   "source": [
    "entries = []\n",
    "while True:\n",
    "    user_entry = input(\"To add, show or exit: \")\n",
    "    if user_entry == 'add':\n",
    "        entry = input(\"Enter a todo: \")\n",
    "        entries.append(entry)\n",
    "    elif user_entry == 'show':\n",
    "        print(entries)\n",
    "    if user_entry == 'exit':\n",
    "        break"
   ]
  },
  {
   "cell_type": "code",
   "execution_count": null,
   "id": "33906366",
   "metadata": {},
   "outputs": [],
   "source": [
    "entries = []\n",
    "while True:\n",
    "    user_entry = input(\"To add, show or exit: \")\n",
    "    if user_entry == 'add':\n",
    "        entry = input(\"Enter a todo: \")\n",
    "        entries.append(entry)\n",
    "    elif user_entry == 'show':\n",
    "        print(entries)\n",
    "    if user_entry == 'exit':\n",
    "        print(\"The entered todo list: \",entries)\n",
    "        break"
   ]
  },
  {
   "cell_type": "code",
   "execution_count": null,
   "id": "47b9f0e4",
   "metadata": {},
   "outputs": [],
   "source": [
    "\"add\" == \"add \""
   ]
  },
  {
   "cell_type": "code",
   "execution_count": null,
   "id": "51b8b0e2",
   "metadata": {},
   "outputs": [],
   "source": [
    "a = \"add\"\n",
    "b = \"add \""
   ]
  },
  {
   "cell_type": "code",
   "execution_count": null,
   "id": "7220b72f",
   "metadata": {},
   "outputs": [],
   "source": [
    "len(a)\n"
   ]
  },
  {
   "cell_type": "code",
   "execution_count": null,
   "id": "349d44e1",
   "metadata": {},
   "outputs": [],
   "source": [
    "len(b)"
   ]
  },
  {
   "cell_type": "code",
   "execution_count": null,
   "id": "b3132a88",
   "metadata": {},
   "outputs": [],
   "source": [
    "a == b"
   ]
  },
  {
   "cell_type": "code",
   "execution_count": null,
   "id": "ca8cfc30",
   "metadata": {},
   "outputs": [],
   "source": [
    "a == b.strip()"
   ]
  },
  {
   "cell_type": "code",
   "execution_count": null,
   "id": "5939fc52",
   "metadata": {},
   "outputs": [],
   "source": [
    "b"
   ]
  },
  {
   "cell_type": "code",
   "execution_count": null,
   "id": "06e3e1a2",
   "metadata": {},
   "outputs": [],
   "source": [
    "c = b.strip()"
   ]
  },
  {
   "cell_type": "code",
   "execution_count": null,
   "id": "b2104d0c",
   "metadata": {},
   "outputs": [],
   "source": [
    "c "
   ]
  },
  {
   "cell_type": "code",
   "execution_count": null,
   "id": "1e556a2f",
   "metadata": {},
   "outputs": [],
   "source": [
    "input()"
   ]
  },
  {
   "cell_type": "code",
   "execution_count": null,
   "id": "0534a02b",
   "metadata": {},
   "outputs": [],
   "source": [
    "d = \" add\""
   ]
  },
  {
   "cell_type": "code",
   "execution_count": null,
   "id": "32f49158",
   "metadata": {},
   "outputs": [],
   "source": [
    "len(d)"
   ]
  },
  {
   "cell_type": "code",
   "execution_count": null,
   "id": "be795db7",
   "metadata": {},
   "outputs": [],
   "source": [
    "e = d.strip()"
   ]
  },
  {
   "cell_type": "code",
   "execution_count": null,
   "id": "bb0e6646",
   "metadata": {},
   "outputs": [],
   "source": [
    "e"
   ]
  },
  {
   "cell_type": "code",
   "execution_count": null,
   "id": "5a38bbbc",
   "metadata": {},
   "outputs": [],
   "source": [
    "f = \"a dd\""
   ]
  },
  {
   "cell_type": "code",
   "execution_count": null,
   "id": "7bdd49a1",
   "metadata": {},
   "outputs": [],
   "source": [
    "g = f.strip() "
   ]
  },
  {
   "cell_type": "code",
   "execution_count": null,
   "id": "282fa23c",
   "metadata": {},
   "outputs": [],
   "source": [
    "g"
   ]
  },
  {
   "cell_type": "code",
   "execution_count": null,
   "id": "effe38d3",
   "metadata": {},
   "outputs": [],
   "source": [
    "entries = []\n",
    "while True:\n",
    "    user_entry = input(\"To add, show or exit: \")\n",
    "    user_entry = user_entry.strip()\n",
    "    if user_entry == 'add':\n",
    "        entry = input(\"Enter a todo: \")\n",
    "        entries.append(entry)\n",
    "    elif user_entry == 'show':\n",
    "        print(entries)\n",
    "    if user_entry == 'exit':\n",
    "        print(\"The entered todo list: \",entries)\n",
    "        break"
   ]
  },
  {
   "cell_type": "code",
   "execution_count": 1,
   "id": "1d858b16",
   "metadata": {},
   "outputs": [
    {
     "name": "stdout",
     "output_type": "stream",
     "text": [
      "To add, show or exit: add'\n",
      "To add, show or exit: add\n",
      "Enter a todo: Clean\n",
      "To add, show or exit: add\n",
      "Enter a todo: Read\n",
      "To add, show or exit: show\n",
      "Todo entry:  Clean\n",
      "Todo entry:  Read\n",
      "To add, show or exit: exit\n",
      "Todo entry:  Clean\n",
      "Todo entry:  Read\n"
     ]
    }
   ],
   "source": [
    "entries = []\n",
    "while True:\n",
    "    user_entry = input(\"To add, show or exit: \")\n",
    "    user_entry = user_entry.strip()\n",
    "    if user_entry == 'add':\n",
    "        entry = input(\"Enter a todo: \")\n",
    "        entries.append(entry)\n",
    "    elif user_entry == 'show':\n",
    "        for items in entries:\n",
    "            print(\"Todo entry: \",items)\n",
    "    if user_entry == 'exit':\n",
    "        for items in entries:\n",
    "            print(\"Todo entry: \",items)\n",
    "        break"
   ]
  },
  {
   "cell_type": "code",
   "execution_count": 1,
   "id": "13d657c1",
   "metadata": {},
   "outputs": [
    {
     "ename": "NameError",
     "evalue": "name 'entries' is not defined",
     "output_type": "error",
     "traceback": [
      "\u001b[0;31m---------------------------------------------------------------------------\u001b[0m",
      "\u001b[0;31mNameError\u001b[0m                                 Traceback (most recent call last)",
      "Cell \u001b[0;32mIn[1], line 1\u001b[0m\n\u001b[0;32m----> 1\u001b[0m \u001b[38;5;28mprint\u001b[39m(\u001b[43mentries\u001b[49m)\n",
      "\u001b[0;31mNameError\u001b[0m: name 'entries' is not defined"
     ]
    }
   ],
   "source": [
    "print(entries)"
   ]
  },
  {
   "cell_type": "code",
   "execution_count": null,
   "id": "0197f8c6",
   "metadata": {},
   "outputs": [],
   "source": []
  }
 ],
 "metadata": {
  "kernelspec": {
   "display_name": "Python 3 (ipykernel)",
   "language": "python",
   "name": "python3"
  },
  "language_info": {
   "codemirror_mode": {
    "name": "ipython",
    "version": 3
   },
   "file_extension": ".py",
   "mimetype": "text/x-python",
   "name": "python",
   "nbconvert_exporter": "python",
   "pygments_lexer": "ipython3",
   "version": "3.10.6"
  }
 },
 "nbformat": 4,
 "nbformat_minor": 5
}
